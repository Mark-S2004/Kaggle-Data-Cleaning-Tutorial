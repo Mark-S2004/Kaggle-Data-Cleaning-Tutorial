{
 "cells": [
  {
   "cell_type": "markdown",
   "id": "ab73354d",
   "metadata": {
    "papermill": {
     "duration": 0.007243,
     "end_time": "2023-06-07T12:31:17.997926",
     "exception": false,
     "start_time": "2023-06-07T12:31:17.990683",
     "status": "completed"
    },
    "tags": []
   },
   "source": [
    "**This notebook is an exercise in the [Data Cleaning](https://www.kaggle.com/learn/data-cleaning) course.  You can reference the tutorial at [this link](https://www.kaggle.com/alexisbcook/handling-missing-values).**\n",
    "\n",
    "---\n"
   ]
  },
  {
   "cell_type": "markdown",
   "id": "5a9e5700",
   "metadata": {
    "papermill": {
     "duration": 0.005979,
     "end_time": "2023-06-07T12:31:18.010502",
     "exception": false,
     "start_time": "2023-06-07T12:31:18.004523",
     "status": "completed"
    },
    "tags": []
   },
   "source": [
    "In this exercise, you'll apply what you learned in the **Handling missing values** tutorial.\n",
    "\n",
    "# Setup\n",
    "\n",
    "The questions below will give you feedback on your work. Run the following cell to set up the feedback system."
   ]
  },
  {
   "cell_type": "code",
   "execution_count": 1,
   "id": "5b323297",
   "metadata": {
    "execution": {
     "iopub.execute_input": "2023-06-07T12:31:18.024881Z",
     "iopub.status.busy": "2023-06-07T12:31:18.024501Z",
     "iopub.status.idle": "2023-06-07T12:31:24.070852Z",
     "shell.execute_reply": "2023-06-07T12:31:24.069695Z"
    },
    "papermill": {
     "duration": 6.056839,
     "end_time": "2023-06-07T12:31:24.073531",
     "exception": false,
     "start_time": "2023-06-07T12:31:18.016692",
     "status": "completed"
    },
    "tags": []
   },
   "outputs": [
    {
     "name": "stderr",
     "output_type": "stream",
     "text": [
      "/opt/conda/lib/python3.10/site-packages/learntools/data_cleaning/ex1.py:6: DtypeWarning: Columns (22,32) have mixed types. Specify dtype option on import or set low_memory=False.\n",
      "  sf_permits = pd.read_csv(\"../input/building-permit-applications-data/Building_Permits.csv\")\n"
     ]
    },
    {
     "name": "stdout",
     "output_type": "stream",
     "text": [
      "Setup Complete\n"
     ]
    }
   ],
   "source": [
    "from learntools.core import binder\n",
    "binder.bind(globals())\n",
    "from learntools.data_cleaning.ex1 import *\n",
    "print(\"Setup Complete\")"
   ]
  },
  {
   "cell_type": "markdown",
   "id": "c8866fb0",
   "metadata": {
    "papermill": {
     "duration": 0.009086,
     "end_time": "2023-06-07T12:31:24.089972",
     "exception": false,
     "start_time": "2023-06-07T12:31:24.080886",
     "status": "completed"
    },
    "tags": []
   },
   "source": [
    "# 1) Take a first look at the data\n",
    "\n",
    "Run the next code cell to load in the libraries and dataset you'll use to complete the exercise."
   ]
  },
  {
   "cell_type": "code",
   "execution_count": 2,
   "id": "0426408c",
   "metadata": {
    "execution": {
     "iopub.execute_input": "2023-06-07T12:31:24.105995Z",
     "iopub.status.busy": "2023-06-07T12:31:24.105434Z",
     "iopub.status.idle": "2023-06-07T12:31:25.794094Z",
     "shell.execute_reply": "2023-06-07T12:31:25.793092Z"
    },
    "papermill": {
     "duration": 1.700632,
     "end_time": "2023-06-07T12:31:25.797361",
     "exception": false,
     "start_time": "2023-06-07T12:31:24.096729",
     "status": "completed"
    },
    "tags": []
   },
   "outputs": [
    {
     "name": "stderr",
     "output_type": "stream",
     "text": [
      "/tmp/ipykernel_20/3534875831.py:6: DtypeWarning: Columns (22,32) have mixed types. Specify dtype option on import or set low_memory=False.\n",
      "  sf_permits = pd.read_csv(\"../input/building-permit-applications-data/Building_Permits.csv\")\n"
     ]
    }
   ],
   "source": [
    "# modules we'll use\n",
    "import pandas as pd\n",
    "import numpy as np\n",
    "\n",
    "# read in all our data\n",
    "sf_permits = pd.read_csv(\"../input/building-permit-applications-data/Building_Permits.csv\")\n",
    "\n",
    "# set seed for reproducibility\n",
    "np.random.seed(0) "
   ]
  },
  {
   "cell_type": "markdown",
   "id": "175ecbf9",
   "metadata": {
    "papermill": {
     "duration": 0.006353,
     "end_time": "2023-06-07T12:31:25.810355",
     "exception": false,
     "start_time": "2023-06-07T12:31:25.804002",
     "status": "completed"
    },
    "tags": []
   },
   "source": [
    "Use the code cell below to print the first five rows of the `sf_permits` DataFrame."
   ]
  },
  {
   "cell_type": "code",
   "execution_count": 3,
   "id": "d6e97823",
   "metadata": {
    "execution": {
     "iopub.execute_input": "2023-06-07T12:31:25.826468Z",
     "iopub.status.busy": "2023-06-07T12:31:25.825978Z",
     "iopub.status.idle": "2023-06-07T12:31:25.869035Z",
     "shell.execute_reply": "2023-06-07T12:31:25.867636Z"
    },
    "papermill": {
     "duration": 0.055224,
     "end_time": "2023-06-07T12:31:25.872346",
     "exception": false,
     "start_time": "2023-06-07T12:31:25.817122",
     "status": "completed"
    },
    "tags": []
   },
   "outputs": [
    {
     "data": {
      "text/html": [
       "<div>\n",
       "<style scoped>\n",
       "    .dataframe tbody tr th:only-of-type {\n",
       "        vertical-align: middle;\n",
       "    }\n",
       "\n",
       "    .dataframe tbody tr th {\n",
       "        vertical-align: top;\n",
       "    }\n",
       "\n",
       "    .dataframe thead th {\n",
       "        text-align: right;\n",
       "    }\n",
       "</style>\n",
       "<table border=\"1\" class=\"dataframe\">\n",
       "  <thead>\n",
       "    <tr style=\"text-align: right;\">\n",
       "      <th></th>\n",
       "      <th>Permit Number</th>\n",
       "      <th>Permit Type</th>\n",
       "      <th>Permit Type Definition</th>\n",
       "      <th>Permit Creation Date</th>\n",
       "      <th>Block</th>\n",
       "      <th>Lot</th>\n",
       "      <th>Street Number</th>\n",
       "      <th>Street Number Suffix</th>\n",
       "      <th>Street Name</th>\n",
       "      <th>Street Suffix</th>\n",
       "      <th>...</th>\n",
       "      <th>Existing Construction Type</th>\n",
       "      <th>Existing Construction Type Description</th>\n",
       "      <th>Proposed Construction Type</th>\n",
       "      <th>Proposed Construction Type Description</th>\n",
       "      <th>Site Permit</th>\n",
       "      <th>Supervisor District</th>\n",
       "      <th>Neighborhoods - Analysis Boundaries</th>\n",
       "      <th>Zipcode</th>\n",
       "      <th>Location</th>\n",
       "      <th>Record ID</th>\n",
       "    </tr>\n",
       "  </thead>\n",
       "  <tbody>\n",
       "    <tr>\n",
       "      <th>0</th>\n",
       "      <td>201505065519</td>\n",
       "      <td>4</td>\n",
       "      <td>sign - erect</td>\n",
       "      <td>05/06/2015</td>\n",
       "      <td>0326</td>\n",
       "      <td>023</td>\n",
       "      <td>140</td>\n",
       "      <td>NaN</td>\n",
       "      <td>Ellis</td>\n",
       "      <td>St</td>\n",
       "      <td>...</td>\n",
       "      <td>3.0</td>\n",
       "      <td>constr type 3</td>\n",
       "      <td>NaN</td>\n",
       "      <td>NaN</td>\n",
       "      <td>NaN</td>\n",
       "      <td>3.0</td>\n",
       "      <td>Tenderloin</td>\n",
       "      <td>94102.0</td>\n",
       "      <td>(37.785719256680785, -122.40852313194863)</td>\n",
       "      <td>1380611233945</td>\n",
       "    </tr>\n",
       "    <tr>\n",
       "      <th>1</th>\n",
       "      <td>201604195146</td>\n",
       "      <td>4</td>\n",
       "      <td>sign - erect</td>\n",
       "      <td>04/19/2016</td>\n",
       "      <td>0306</td>\n",
       "      <td>007</td>\n",
       "      <td>440</td>\n",
       "      <td>NaN</td>\n",
       "      <td>Geary</td>\n",
       "      <td>St</td>\n",
       "      <td>...</td>\n",
       "      <td>3.0</td>\n",
       "      <td>constr type 3</td>\n",
       "      <td>NaN</td>\n",
       "      <td>NaN</td>\n",
       "      <td>NaN</td>\n",
       "      <td>3.0</td>\n",
       "      <td>Tenderloin</td>\n",
       "      <td>94102.0</td>\n",
       "      <td>(37.78733980600732, -122.41063199757738)</td>\n",
       "      <td>1420164406718</td>\n",
       "    </tr>\n",
       "    <tr>\n",
       "      <th>2</th>\n",
       "      <td>201605278609</td>\n",
       "      <td>3</td>\n",
       "      <td>additions alterations or repairs</td>\n",
       "      <td>05/27/2016</td>\n",
       "      <td>0595</td>\n",
       "      <td>203</td>\n",
       "      <td>1647</td>\n",
       "      <td>NaN</td>\n",
       "      <td>Pacific</td>\n",
       "      <td>Av</td>\n",
       "      <td>...</td>\n",
       "      <td>1.0</td>\n",
       "      <td>constr type 1</td>\n",
       "      <td>1.0</td>\n",
       "      <td>constr type 1</td>\n",
       "      <td>NaN</td>\n",
       "      <td>3.0</td>\n",
       "      <td>Russian Hill</td>\n",
       "      <td>94109.0</td>\n",
       "      <td>(37.7946573324287, -122.42232562979227)</td>\n",
       "      <td>1424856504716</td>\n",
       "    </tr>\n",
       "    <tr>\n",
       "      <th>3</th>\n",
       "      <td>201611072166</td>\n",
       "      <td>8</td>\n",
       "      <td>otc alterations permit</td>\n",
       "      <td>11/07/2016</td>\n",
       "      <td>0156</td>\n",
       "      <td>011</td>\n",
       "      <td>1230</td>\n",
       "      <td>NaN</td>\n",
       "      <td>Pacific</td>\n",
       "      <td>Av</td>\n",
       "      <td>...</td>\n",
       "      <td>5.0</td>\n",
       "      <td>wood frame (5)</td>\n",
       "      <td>5.0</td>\n",
       "      <td>wood frame (5)</td>\n",
       "      <td>NaN</td>\n",
       "      <td>3.0</td>\n",
       "      <td>Nob Hill</td>\n",
       "      <td>94109.0</td>\n",
       "      <td>(37.79595867909168, -122.41557405519474)</td>\n",
       "      <td>1443574295566</td>\n",
       "    </tr>\n",
       "    <tr>\n",
       "      <th>4</th>\n",
       "      <td>201611283529</td>\n",
       "      <td>6</td>\n",
       "      <td>demolitions</td>\n",
       "      <td>11/28/2016</td>\n",
       "      <td>0342</td>\n",
       "      <td>001</td>\n",
       "      <td>950</td>\n",
       "      <td>NaN</td>\n",
       "      <td>Market</td>\n",
       "      <td>St</td>\n",
       "      <td>...</td>\n",
       "      <td>3.0</td>\n",
       "      <td>constr type 3</td>\n",
       "      <td>NaN</td>\n",
       "      <td>NaN</td>\n",
       "      <td>NaN</td>\n",
       "      <td>6.0</td>\n",
       "      <td>Tenderloin</td>\n",
       "      <td>94102.0</td>\n",
       "      <td>(37.78315261897309, -122.40950883997789)</td>\n",
       "      <td>144548169992</td>\n",
       "    </tr>\n",
       "  </tbody>\n",
       "</table>\n",
       "<p>5 rows × 43 columns</p>\n",
       "</div>"
      ],
      "text/plain": [
       "  Permit Number  Permit Type            Permit Type Definition  \\\n",
       "0  201505065519            4                      sign - erect   \n",
       "1  201604195146            4                      sign - erect   \n",
       "2  201605278609            3  additions alterations or repairs   \n",
       "3  201611072166            8            otc alterations permit   \n",
       "4  201611283529            6                       demolitions   \n",
       "\n",
       "  Permit Creation Date Block  Lot  Street Number Street Number Suffix  \\\n",
       "0           05/06/2015  0326  023            140                  NaN   \n",
       "1           04/19/2016  0306  007            440                  NaN   \n",
       "2           05/27/2016  0595  203           1647                  NaN   \n",
       "3           11/07/2016  0156  011           1230                  NaN   \n",
       "4           11/28/2016  0342  001            950                  NaN   \n",
       "\n",
       "  Street Name Street Suffix  ...  Existing Construction Type  \\\n",
       "0       Ellis            St  ...                         3.0   \n",
       "1       Geary            St  ...                         3.0   \n",
       "2     Pacific            Av  ...                         1.0   \n",
       "3     Pacific            Av  ...                         5.0   \n",
       "4      Market            St  ...                         3.0   \n",
       "\n",
       "  Existing Construction Type Description Proposed Construction Type  \\\n",
       "0                          constr type 3                        NaN   \n",
       "1                          constr type 3                        NaN   \n",
       "2                          constr type 1                        1.0   \n",
       "3                         wood frame (5)                        5.0   \n",
       "4                          constr type 3                        NaN   \n",
       "\n",
       "  Proposed Construction Type Description Site Permit Supervisor District  \\\n",
       "0                                    NaN         NaN                 3.0   \n",
       "1                                    NaN         NaN                 3.0   \n",
       "2                          constr type 1         NaN                 3.0   \n",
       "3                         wood frame (5)         NaN                 3.0   \n",
       "4                                    NaN         NaN                 6.0   \n",
       "\n",
       "  Neighborhoods - Analysis Boundaries  Zipcode  \\\n",
       "0                          Tenderloin  94102.0   \n",
       "1                          Tenderloin  94102.0   \n",
       "2                        Russian Hill  94109.0   \n",
       "3                            Nob Hill  94109.0   \n",
       "4                          Tenderloin  94102.0   \n",
       "\n",
       "                                    Location      Record ID  \n",
       "0  (37.785719256680785, -122.40852313194863)  1380611233945  \n",
       "1   (37.78733980600732, -122.41063199757738)  1420164406718  \n",
       "2    (37.7946573324287, -122.42232562979227)  1424856504716  \n",
       "3   (37.79595867909168, -122.41557405519474)  1443574295566  \n",
       "4   (37.78315261897309, -122.40950883997789)   144548169992  \n",
       "\n",
       "[5 rows x 43 columns]"
      ]
     },
     "execution_count": 3,
     "metadata": {},
     "output_type": "execute_result"
    }
   ],
   "source": [
    "# TODO: Your code here!\n",
    "sf_permits.head(5)"
   ]
  },
  {
   "cell_type": "markdown",
   "id": "f8813938",
   "metadata": {
    "papermill": {
     "duration": 0.007769,
     "end_time": "2023-06-07T12:31:25.889417",
     "exception": false,
     "start_time": "2023-06-07T12:31:25.881648",
     "status": "completed"
    },
    "tags": []
   },
   "source": [
    "Does the dataset have any missing values?  Once you have an answer, run the code cell below to get credit for your work."
   ]
  },
  {
   "cell_type": "code",
   "execution_count": 4,
   "id": "c57a9e2d",
   "metadata": {
    "execution": {
     "iopub.execute_input": "2023-06-07T12:31:25.909646Z",
     "iopub.status.busy": "2023-06-07T12:31:25.909253Z",
     "iopub.status.idle": "2023-06-07T12:31:25.917559Z",
     "shell.execute_reply": "2023-06-07T12:31:25.916777Z"
    },
    "papermill": {
     "duration": 0.024127,
     "end_time": "2023-06-07T12:31:25.922465",
     "exception": false,
     "start_time": "2023-06-07T12:31:25.898338",
     "status": "completed"
    },
    "tags": []
   },
   "outputs": [
    {
     "data": {
      "application/javascript": [
       "parent.postMessage({\"jupyterEvent\": \"custom.exercise_interaction\", \"data\": {\"outcomeType\": 1, \"valueTowardsCompletion\": 0.16666666666666666, \"interactionType\": 1, \"questionType\": 4, \"questionId\": \"1_TakeFirstLook\", \"learnToolsVersion\": \"0.3.4\", \"failureMessage\": \"\", \"exceptionClass\": \"\", \"trace\": \"\"}}, \"*\")"
      ],
      "text/plain": [
       "<IPython.core.display.Javascript object>"
      ]
     },
     "metadata": {},
     "output_type": "display_data"
    },
    {
     "data": {
      "text/markdown": [
       "<span style=\"color:#33cc33\">Correct:</span> \n",
       "\n",
       "The first five rows of the data does show that several columns have missing values.  You can see this in the \"Street Number Suffix\", \"Proposed Construction Type\" and \"Site Permit\" columns, among others."
      ],
      "text/plain": [
       "Correct: \n",
       "\n",
       "The first five rows of the data does show that several columns have missing values.  You can see this in the \"Street Number Suffix\", \"Proposed Construction Type\" and \"Site Permit\" columns, among others."
      ]
     },
     "metadata": {},
     "output_type": "display_data"
    }
   ],
   "source": [
    "# Check your answer (Run this code cell to receive credit!)\n",
    "q1.check()"
   ]
  },
  {
   "cell_type": "code",
   "execution_count": 5,
   "id": "98837ff3",
   "metadata": {
    "execution": {
     "iopub.execute_input": "2023-06-07T12:31:25.939630Z",
     "iopub.status.busy": "2023-06-07T12:31:25.939023Z",
     "iopub.status.idle": "2023-06-07T12:31:25.947570Z",
     "shell.execute_reply": "2023-06-07T12:31:25.945979Z"
    },
    "papermill": {
     "duration": 0.020527,
     "end_time": "2023-06-07T12:31:25.950410",
     "exception": false,
     "start_time": "2023-06-07T12:31:25.929883",
     "status": "completed"
    },
    "tags": []
   },
   "outputs": [
    {
     "data": {
      "application/javascript": [
       "parent.postMessage({\"jupyterEvent\": \"custom.exercise_interaction\", \"data\": {\"interactionType\": 2, \"questionType\": 4, \"questionId\": \"1_TakeFirstLook\", \"learnToolsVersion\": \"0.3.4\", \"valueTowardsCompletion\": 0.0, \"failureMessage\": \"\", \"exceptionClass\": \"\", \"trace\": \"\", \"outcomeType\": 4}}, \"*\")"
      ],
      "text/plain": [
       "<IPython.core.display.Javascript object>"
      ]
     },
     "metadata": {},
     "output_type": "display_data"
    },
    {
     "data": {
      "text/markdown": [
       "<span style=\"color:#3366cc\">Hint:</span> Use `sf_permits.head()` to view the first five rows of the data."
      ],
      "text/plain": [
       "Hint: Use `sf_permits.head()` to view the first five rows of the data."
      ]
     },
     "metadata": {},
     "output_type": "display_data"
    }
   ],
   "source": [
    "# Line below will give you a hint\n",
    "q1.hint()"
   ]
  },
  {
   "cell_type": "markdown",
   "id": "b0b3251a",
   "metadata": {
    "papermill": {
     "duration": 0.006878,
     "end_time": "2023-06-07T12:31:25.965123",
     "exception": false,
     "start_time": "2023-06-07T12:31:25.958245",
     "status": "completed"
    },
    "tags": []
   },
   "source": [
    "# 2) How many missing data points do we have?\n",
    "\n",
    "What percentage of the values in the dataset are missing?  Your answer should be a number between 0 and 100.  (If 1/4 of the values in the dataset are missing, the answer is 25.)"
   ]
  },
  {
   "cell_type": "code",
   "execution_count": 6,
   "id": "c15a9b3c",
   "metadata": {
    "execution": {
     "iopub.execute_input": "2023-06-07T12:31:25.983969Z",
     "iopub.status.busy": "2023-06-07T12:31:25.983571Z",
     "iopub.status.idle": "2023-06-07T12:31:26.792762Z",
     "shell.execute_reply": "2023-06-07T12:31:26.792069Z"
    },
    "papermill": {
     "duration": 0.822048,
     "end_time": "2023-06-07T12:31:26.795050",
     "exception": false,
     "start_time": "2023-06-07T12:31:25.973002",
     "status": "completed"
    },
    "tags": []
   },
   "outputs": [
    {
     "data": {
      "application/javascript": [
       "parent.postMessage({\"jupyterEvent\": \"custom.exercise_interaction\", \"data\": {\"outcomeType\": 1, \"valueTowardsCompletion\": 0.16666666666666666, \"interactionType\": 1, \"questionType\": 1, \"questionId\": \"2_PercentMissingValues\", \"learnToolsVersion\": \"0.3.4\", \"failureMessage\": \"\", \"exceptionClass\": \"\", \"trace\": \"\"}}, \"*\")"
      ],
      "text/plain": [
       "<IPython.core.display.Javascript object>"
      ]
     },
     "metadata": {},
     "output_type": "display_data"
    },
    {
     "data": {
      "text/markdown": [
       "<span style=\"color:#33cc33\">Correct</span>"
      ],
      "text/plain": [
       "Correct"
      ]
     },
     "metadata": {},
     "output_type": "display_data"
    }
   ],
   "source": [
    "# TODO: Your code here!\n",
    "percent_missing = (sf_permits.isnull().sum().sum() / np.product(sf_permits.shape)) * 100\n",
    "\n",
    "# Check your answer\n",
    "q2.check()"
   ]
  },
  {
   "cell_type": "code",
   "execution_count": 7,
   "id": "d761850b",
   "metadata": {
    "execution": {
     "iopub.execute_input": "2023-06-07T12:31:26.812502Z",
     "iopub.status.busy": "2023-06-07T12:31:26.811811Z",
     "iopub.status.idle": "2023-06-07T12:31:26.819975Z",
     "shell.execute_reply": "2023-06-07T12:31:26.818444Z"
    },
    "papermill": {
     "duration": 0.019906,
     "end_time": "2023-06-07T12:31:26.822683",
     "exception": false,
     "start_time": "2023-06-07T12:31:26.802777",
     "status": "completed"
    },
    "tags": []
   },
   "outputs": [
    {
     "data": {
      "text/plain": [
       "26.26002315058403"
      ]
     },
     "execution_count": 7,
     "metadata": {},
     "output_type": "execute_result"
    }
   ],
   "source": [
    "# Lines below will give you a hint or solution code\n",
    "#q2.hint()\n",
    "#q2.solution()\n",
    "percent_missing"
   ]
  },
  {
   "cell_type": "markdown",
   "id": "d0b465e3",
   "metadata": {
    "papermill": {
     "duration": 0.007905,
     "end_time": "2023-06-07T12:31:26.838667",
     "exception": false,
     "start_time": "2023-06-07T12:31:26.830762",
     "status": "completed"
    },
    "tags": []
   },
   "source": [
    "# 3) Figure out why the data is missing\n",
    "\n",
    "Look at the columns **\"Street Number Suffix\"** and **\"Zipcode\"** from the [San Francisco Building Permits dataset](https://www.kaggle.com/aparnashastry/building-permit-applications-data). Both of these contain missing values. \n",
    "- Which, if either, are missing because they don't exist? \n",
    "- Which, if either, are missing because they weren't recorded?  \n",
    "\n",
    "Once you have an answer, run the code cell below."
   ]
  },
  {
   "cell_type": "code",
   "execution_count": 8,
   "id": "f697959c",
   "metadata": {
    "execution": {
     "iopub.execute_input": "2023-06-07T12:31:26.856248Z",
     "iopub.status.busy": "2023-06-07T12:31:26.855565Z",
     "iopub.status.idle": "2023-06-07T12:31:26.874533Z",
     "shell.execute_reply": "2023-06-07T12:31:26.872841Z"
    },
    "papermill": {
     "duration": 0.03226,
     "end_time": "2023-06-07T12:31:26.878523",
     "exception": false,
     "start_time": "2023-06-07T12:31:26.846263",
     "status": "completed"
    },
    "tags": []
   },
   "outputs": [
    {
     "data": {
      "text/plain": [
       "array([nan, 'A', 'C', 'V', 'B', 'F', 'R', 'D', '0', 'E', 'P', 'G', 'J',\n",
       "       'K', 'H', 'L', 'I', '½', 'N'], dtype=object)"
      ]
     },
     "execution_count": 8,
     "metadata": {},
     "output_type": "execute_result"
    }
   ],
   "source": [
    "sf_permits[\"Street Number Suffix\"].unique()"
   ]
  },
  {
   "cell_type": "code",
   "execution_count": 9,
   "id": "9b1297a4",
   "metadata": {
    "execution": {
     "iopub.execute_input": "2023-06-07T12:31:26.897949Z",
     "iopub.status.busy": "2023-06-07T12:31:26.897580Z",
     "iopub.status.idle": "2023-06-07T12:31:26.907032Z",
     "shell.execute_reply": "2023-06-07T12:31:26.905964Z"
    },
    "papermill": {
     "duration": 0.022113,
     "end_time": "2023-06-07T12:31:26.909439",
     "exception": false,
     "start_time": "2023-06-07T12:31:26.887326",
     "status": "completed"
    },
    "tags": []
   },
   "outputs": [
    {
     "data": {
      "application/javascript": [
       "parent.postMessage({\"jupyterEvent\": \"custom.exercise_interaction\", \"data\": {\"outcomeType\": 1, \"valueTowardsCompletion\": 0.16666666666666666, \"interactionType\": 1, \"questionType\": 4, \"questionId\": \"3_WhyDataMissing\", \"learnToolsVersion\": \"0.3.4\", \"failureMessage\": \"\", \"exceptionClass\": \"\", \"trace\": \"\"}}, \"*\")"
      ],
      "text/plain": [
       "<IPython.core.display.Javascript object>"
      ]
     },
     "metadata": {},
     "output_type": "display_data"
    },
    {
     "data": {
      "text/markdown": [
       "<span style=\"color:#33cc33\">Correct:</span> \n",
       "\n",
       "If a value in the \"Street Number Suffix\" column is missing, it is likely because it does not exist. If a value in the \"Zipcode\" column is missing, it was not recorded."
      ],
      "text/plain": [
       "Correct: \n",
       "\n",
       "If a value in the \"Street Number Suffix\" column is missing, it is likely because it does not exist. If a value in the \"Zipcode\" column is missing, it was not recorded."
      ]
     },
     "metadata": {},
     "output_type": "display_data"
    }
   ],
   "source": [
    "# Check your answer (Run this code cell to receive credit!)\n",
    "q3.check()"
   ]
  },
  {
   "cell_type": "code",
   "execution_count": 10,
   "id": "7d5c056d",
   "metadata": {
    "execution": {
     "iopub.execute_input": "2023-06-07T12:31:26.930485Z",
     "iopub.status.busy": "2023-06-07T12:31:26.930109Z",
     "iopub.status.idle": "2023-06-07T12:31:26.938572Z",
     "shell.execute_reply": "2023-06-07T12:31:26.937472Z"
    },
    "papermill": {
     "duration": 0.022013,
     "end_time": "2023-06-07T12:31:26.940675",
     "exception": false,
     "start_time": "2023-06-07T12:31:26.918662",
     "status": "completed"
    },
    "tags": []
   },
   "outputs": [
    {
     "data": {
      "application/javascript": [
       "parent.postMessage({\"jupyterEvent\": \"custom.exercise_interaction\", \"data\": {\"interactionType\": 2, \"questionType\": 4, \"questionId\": \"3_WhyDataMissing\", \"learnToolsVersion\": \"0.3.4\", \"valueTowardsCompletion\": 0.0, \"failureMessage\": \"\", \"exceptionClass\": \"\", \"trace\": \"\", \"outcomeType\": 4}}, \"*\")"
      ],
      "text/plain": [
       "<IPython.core.display.Javascript object>"
      ]
     },
     "metadata": {},
     "output_type": "display_data"
    },
    {
     "data": {
      "text/markdown": [
       "<span style=\"color:#3366cc\">Hint:</span> Do all addresses generally have a street number suffix?  Do all addresses generally have a zipcode?"
      ],
      "text/plain": [
       "Hint: Do all addresses generally have a street number suffix?  Do all addresses generally have a zipcode?"
      ]
     },
     "metadata": {},
     "output_type": "display_data"
    }
   ],
   "source": [
    "# Line below will give you a hint\n",
    "q3.hint()"
   ]
  },
  {
   "cell_type": "markdown",
   "id": "ec37c5b2",
   "metadata": {
    "papermill": {
     "duration": 0.010445,
     "end_time": "2023-06-07T12:31:26.960483",
     "exception": false,
     "start_time": "2023-06-07T12:31:26.950038",
     "status": "completed"
    },
    "tags": []
   },
   "source": [
    "# 4) Drop missing values: rows\n",
    "\n",
    "If you removed all of the rows of `sf_permits` with missing values, how many rows are left?\n",
    "\n",
    "**Note**: Do not change the value of `sf_permits` when checking this.  "
   ]
  },
  {
   "cell_type": "code",
   "execution_count": 11,
   "id": "2d41a977",
   "metadata": {
    "execution": {
     "iopub.execute_input": "2023-06-07T12:31:26.984850Z",
     "iopub.status.busy": "2023-06-07T12:31:26.984434Z",
     "iopub.status.idle": "2023-06-07T12:31:27.800496Z",
     "shell.execute_reply": "2023-06-07T12:31:27.799364Z"
    },
    "papermill": {
     "duration": 0.832952,
     "end_time": "2023-06-07T12:31:27.803233",
     "exception": false,
     "start_time": "2023-06-07T12:31:26.970281",
     "status": "completed"
    },
    "tags": []
   },
   "outputs": [
    {
     "data": {
      "text/html": [
       "<div>\n",
       "<style scoped>\n",
       "    .dataframe tbody tr th:only-of-type {\n",
       "        vertical-align: middle;\n",
       "    }\n",
       "\n",
       "    .dataframe tbody tr th {\n",
       "        vertical-align: top;\n",
       "    }\n",
       "\n",
       "    .dataframe thead th {\n",
       "        text-align: right;\n",
       "    }\n",
       "</style>\n",
       "<table border=\"1\" class=\"dataframe\">\n",
       "  <thead>\n",
       "    <tr style=\"text-align: right;\">\n",
       "      <th></th>\n",
       "      <th>Permit Number</th>\n",
       "      <th>Permit Type</th>\n",
       "      <th>Permit Type Definition</th>\n",
       "      <th>Permit Creation Date</th>\n",
       "      <th>Block</th>\n",
       "      <th>Lot</th>\n",
       "      <th>Street Number</th>\n",
       "      <th>Street Number Suffix</th>\n",
       "      <th>Street Name</th>\n",
       "      <th>Street Suffix</th>\n",
       "      <th>...</th>\n",
       "      <th>Existing Construction Type</th>\n",
       "      <th>Existing Construction Type Description</th>\n",
       "      <th>Proposed Construction Type</th>\n",
       "      <th>Proposed Construction Type Description</th>\n",
       "      <th>Site Permit</th>\n",
       "      <th>Supervisor District</th>\n",
       "      <th>Neighborhoods - Analysis Boundaries</th>\n",
       "      <th>Zipcode</th>\n",
       "      <th>Location</th>\n",
       "      <th>Record ID</th>\n",
       "    </tr>\n",
       "  </thead>\n",
       "  <tbody>\n",
       "  </tbody>\n",
       "</table>\n",
       "<p>0 rows × 43 columns</p>\n",
       "</div>"
      ],
      "text/plain": [
       "Empty DataFrame\n",
       "Columns: [Permit Number, Permit Type, Permit Type Definition, Permit Creation Date, Block, Lot, Street Number, Street Number Suffix, Street Name, Street Suffix, Unit, Unit Suffix, Description, Current Status, Current Status Date, Filed Date, Issued Date, Completed Date, First Construction Document Date, Structural Notification, Number of Existing Stories, Number of Proposed Stories, Voluntary Soft-Story Retrofit, Fire Only Permit, Permit Expiration Date, Estimated Cost, Revised Cost, Existing Use, Existing Units, Proposed Use, Proposed Units, Plansets, TIDF Compliance, Existing Construction Type, Existing Construction Type Description, Proposed Construction Type, Proposed Construction Type Description, Site Permit, Supervisor District, Neighborhoods - Analysis Boundaries, Zipcode, Location, Record ID]\n",
       "Index: []\n",
       "\n",
       "[0 rows x 43 columns]"
      ]
     },
     "execution_count": 11,
     "metadata": {},
     "output_type": "execute_result"
    }
   ],
   "source": [
    "# TODO: Your code here!\n",
    "sf_permits.dropna()"
   ]
  },
  {
   "cell_type": "markdown",
   "id": "b37502e3",
   "metadata": {
    "papermill": {
     "duration": 0.00981,
     "end_time": "2023-06-07T12:31:27.821756",
     "exception": false,
     "start_time": "2023-06-07T12:31:27.811946",
     "status": "completed"
    },
    "tags": []
   },
   "source": [
    "Once you have an answer, run the code cell below."
   ]
  },
  {
   "cell_type": "code",
   "execution_count": 12,
   "id": "c9a81d90",
   "metadata": {
    "execution": {
     "iopub.execute_input": "2023-06-07T12:31:27.840988Z",
     "iopub.status.busy": "2023-06-07T12:31:27.840594Z",
     "iopub.status.idle": "2023-06-07T12:31:27.850496Z",
     "shell.execute_reply": "2023-06-07T12:31:27.849128Z"
    },
    "papermill": {
     "duration": 0.022812,
     "end_time": "2023-06-07T12:31:27.853223",
     "exception": false,
     "start_time": "2023-06-07T12:31:27.830411",
     "status": "completed"
    },
    "tags": []
   },
   "outputs": [
    {
     "data": {
      "application/javascript": [
       "parent.postMessage({\"jupyterEvent\": \"custom.exercise_interaction\", \"data\": {\"outcomeType\": 1, \"valueTowardsCompletion\": 0.16666666666666666, \"interactionType\": 1, \"questionType\": 4, \"questionId\": \"4_DropMissingRows\", \"learnToolsVersion\": \"0.3.4\", \"failureMessage\": \"\", \"exceptionClass\": \"\", \"trace\": \"\"}}, \"*\")"
      ],
      "text/plain": [
       "<IPython.core.display.Javascript object>"
      ]
     },
     "metadata": {},
     "output_type": "display_data"
    },
    {
     "data": {
      "text/markdown": [
       "<span style=\"color:#33cc33\">Correct:</span> \n",
       "\n",
       "There are no rows remaining in the dataset!"
      ],
      "text/plain": [
       "Correct: \n",
       "\n",
       "There are no rows remaining in the dataset!"
      ]
     },
     "metadata": {},
     "output_type": "display_data"
    }
   ],
   "source": [
    "# Check your answer (Run this code cell to receive credit!)\n",
    "q4.check()"
   ]
  },
  {
   "cell_type": "code",
   "execution_count": 13,
   "id": "8d6cfaf5",
   "metadata": {
    "execution": {
     "iopub.execute_input": "2023-06-07T12:31:27.873310Z",
     "iopub.status.busy": "2023-06-07T12:31:27.872845Z",
     "iopub.status.idle": "2023-06-07T12:31:27.878519Z",
     "shell.execute_reply": "2023-06-07T12:31:27.876273Z"
    },
    "papermill": {
     "duration": 0.018626,
     "end_time": "2023-06-07T12:31:27.880854",
     "exception": false,
     "start_time": "2023-06-07T12:31:27.862228",
     "status": "completed"
    },
    "tags": []
   },
   "outputs": [],
   "source": [
    "# Line below will give you a hint\n",
    "#q4.hint()"
   ]
  },
  {
   "cell_type": "markdown",
   "id": "03aeb53a",
   "metadata": {
    "papermill": {
     "duration": 0.009628,
     "end_time": "2023-06-07T12:31:27.900480",
     "exception": false,
     "start_time": "2023-06-07T12:31:27.890852",
     "status": "completed"
    },
    "tags": []
   },
   "source": [
    "# 5) Drop missing values: columns\n",
    "\n",
    "Now try removing all the columns with empty values.  \n",
    "- Create a new DataFrame called `sf_permits_with_na_dropped` that has all of the columns with empty values removed.  \n",
    "- How many columns were removed from the original `sf_permits` DataFrame? Use this number to set the value of the `dropped_columns` variable below."
   ]
  },
  {
   "cell_type": "code",
   "execution_count": 14,
   "id": "543cb179",
   "metadata": {
    "execution": {
     "iopub.execute_input": "2023-06-07T12:31:27.922223Z",
     "iopub.status.busy": "2023-06-07T12:31:27.921794Z",
     "iopub.status.idle": "2023-06-07T12:31:28.739684Z",
     "shell.execute_reply": "2023-06-07T12:31:28.737754Z"
    },
    "papermill": {
     "duration": 0.832162,
     "end_time": "2023-06-07T12:31:28.742222",
     "exception": false,
     "start_time": "2023-06-07T12:31:27.910060",
     "status": "completed"
    },
    "tags": []
   },
   "outputs": [
    {
     "data": {
      "application/javascript": [
       "parent.postMessage({\"jupyterEvent\": \"custom.exercise_interaction\", \"data\": {\"outcomeType\": 1, \"valueTowardsCompletion\": 0.16666666666666666, \"interactionType\": 1, \"questionType\": 1, \"questionId\": \"5_DropMissingCols\", \"learnToolsVersion\": \"0.3.4\", \"failureMessage\": \"\", \"exceptionClass\": \"\", \"trace\": \"\"}}, \"*\")"
      ],
      "text/plain": [
       "<IPython.core.display.Javascript object>"
      ]
     },
     "metadata": {},
     "output_type": "display_data"
    },
    {
     "data": {
      "text/markdown": [
       "<span style=\"color:#33cc33\">Correct</span>"
      ],
      "text/plain": [
       "Correct"
      ]
     },
     "metadata": {},
     "output_type": "display_data"
    }
   ],
   "source": [
    "# TODO: Your code here\n",
    "sf_permits_with_na_dropped = sf_permits.dropna(axis=1)\n",
    "\n",
    "dropped_columns = sf_permits.shape[1] - sf_permits_with_na_dropped.shape[1]\n",
    "\n",
    "# Check your answer\n",
    "q5.check()"
   ]
  },
  {
   "cell_type": "code",
   "execution_count": 15,
   "id": "c0c643d8",
   "metadata": {
    "execution": {
     "iopub.execute_input": "2023-06-07T12:31:28.762752Z",
     "iopub.status.busy": "2023-06-07T12:31:28.762335Z",
     "iopub.status.idle": "2023-06-07T12:31:28.767114Z",
     "shell.execute_reply": "2023-06-07T12:31:28.765626Z"
    },
    "papermill": {
     "duration": 0.018733,
     "end_time": "2023-06-07T12:31:28.770080",
     "exception": false,
     "start_time": "2023-06-07T12:31:28.751347",
     "status": "completed"
    },
    "tags": []
   },
   "outputs": [],
   "source": [
    "# Lines below will give you a hint or solution code\n",
    "#q5.hint()\n",
    "#q5.solution()"
   ]
  },
  {
   "cell_type": "markdown",
   "id": "fc17cc2f",
   "metadata": {
    "papermill": {
     "duration": 0.010122,
     "end_time": "2023-06-07T12:31:28.789605",
     "exception": false,
     "start_time": "2023-06-07T12:31:28.779483",
     "status": "completed"
    },
    "tags": []
   },
   "source": [
    "# 6) Fill in missing values automatically\n",
    "\n",
    "Try replacing all the NaN's in the `sf_permits` data with the one that comes directly after it and then replacing any remaining NaN's with 0.  Set the result to a new DataFrame `sf_permits_with_na_imputed`."
   ]
  },
  {
   "cell_type": "code",
   "execution_count": 16,
   "id": "4299947f",
   "metadata": {
    "execution": {
     "iopub.execute_input": "2023-06-07T12:31:28.811293Z",
     "iopub.status.busy": "2023-06-07T12:31:28.810879Z",
     "iopub.status.idle": "2023-06-07T12:31:30.704522Z",
     "shell.execute_reply": "2023-06-07T12:31:30.703007Z"
    },
    "papermill": {
     "duration": 1.907855,
     "end_time": "2023-06-07T12:31:30.707302",
     "exception": false,
     "start_time": "2023-06-07T12:31:28.799447",
     "status": "completed"
    },
    "tags": []
   },
   "outputs": [
    {
     "data": {
      "text/html": [
       "<div>\n",
       "<style scoped>\n",
       "    .dataframe tbody tr th:only-of-type {\n",
       "        vertical-align: middle;\n",
       "    }\n",
       "\n",
       "    .dataframe tbody tr th {\n",
       "        vertical-align: top;\n",
       "    }\n",
       "\n",
       "    .dataframe thead th {\n",
       "        text-align: right;\n",
       "    }\n",
       "</style>\n",
       "<table border=\"1\" class=\"dataframe\">\n",
       "  <thead>\n",
       "    <tr style=\"text-align: right;\">\n",
       "      <th></th>\n",
       "      <th>Permit Number</th>\n",
       "      <th>Permit Type</th>\n",
       "      <th>Permit Type Definition</th>\n",
       "      <th>Permit Creation Date</th>\n",
       "      <th>Block</th>\n",
       "      <th>Lot</th>\n",
       "      <th>Street Number</th>\n",
       "      <th>Street Number Suffix</th>\n",
       "      <th>Street Name</th>\n",
       "      <th>Street Suffix</th>\n",
       "      <th>...</th>\n",
       "      <th>Existing Construction Type</th>\n",
       "      <th>Existing Construction Type Description</th>\n",
       "      <th>Proposed Construction Type</th>\n",
       "      <th>Proposed Construction Type Description</th>\n",
       "      <th>Site Permit</th>\n",
       "      <th>Supervisor District</th>\n",
       "      <th>Neighborhoods - Analysis Boundaries</th>\n",
       "      <th>Zipcode</th>\n",
       "      <th>Location</th>\n",
       "      <th>Record ID</th>\n",
       "    </tr>\n",
       "  </thead>\n",
       "  <tbody>\n",
       "    <tr>\n",
       "      <th>0</th>\n",
       "      <td>201505065519</td>\n",
       "      <td>4</td>\n",
       "      <td>sign - erect</td>\n",
       "      <td>05/06/2015</td>\n",
       "      <td>0326</td>\n",
       "      <td>023</td>\n",
       "      <td>140</td>\n",
       "      <td>A</td>\n",
       "      <td>Ellis</td>\n",
       "      <td>St</td>\n",
       "      <td>...</td>\n",
       "      <td>3.0</td>\n",
       "      <td>constr type 3</td>\n",
       "      <td>1.0</td>\n",
       "      <td>constr type 1</td>\n",
       "      <td>Y</td>\n",
       "      <td>3.0</td>\n",
       "      <td>Tenderloin</td>\n",
       "      <td>94102.0</td>\n",
       "      <td>(37.785719256680785, -122.40852313194863)</td>\n",
       "      <td>1380611233945</td>\n",
       "    </tr>\n",
       "    <tr>\n",
       "      <th>1</th>\n",
       "      <td>201604195146</td>\n",
       "      <td>4</td>\n",
       "      <td>sign - erect</td>\n",
       "      <td>04/19/2016</td>\n",
       "      <td>0306</td>\n",
       "      <td>007</td>\n",
       "      <td>440</td>\n",
       "      <td>A</td>\n",
       "      <td>Geary</td>\n",
       "      <td>St</td>\n",
       "      <td>...</td>\n",
       "      <td>3.0</td>\n",
       "      <td>constr type 3</td>\n",
       "      <td>1.0</td>\n",
       "      <td>constr type 1</td>\n",
       "      <td>Y</td>\n",
       "      <td>3.0</td>\n",
       "      <td>Tenderloin</td>\n",
       "      <td>94102.0</td>\n",
       "      <td>(37.78733980600732, -122.41063199757738)</td>\n",
       "      <td>1420164406718</td>\n",
       "    </tr>\n",
       "    <tr>\n",
       "      <th>2</th>\n",
       "      <td>201605278609</td>\n",
       "      <td>3</td>\n",
       "      <td>additions alterations or repairs</td>\n",
       "      <td>05/27/2016</td>\n",
       "      <td>0595</td>\n",
       "      <td>203</td>\n",
       "      <td>1647</td>\n",
       "      <td>A</td>\n",
       "      <td>Pacific</td>\n",
       "      <td>Av</td>\n",
       "      <td>...</td>\n",
       "      <td>1.0</td>\n",
       "      <td>constr type 1</td>\n",
       "      <td>1.0</td>\n",
       "      <td>constr type 1</td>\n",
       "      <td>Y</td>\n",
       "      <td>3.0</td>\n",
       "      <td>Russian Hill</td>\n",
       "      <td>94109.0</td>\n",
       "      <td>(37.7946573324287, -122.42232562979227)</td>\n",
       "      <td>1424856504716</td>\n",
       "    </tr>\n",
       "    <tr>\n",
       "      <th>3</th>\n",
       "      <td>201611072166</td>\n",
       "      <td>8</td>\n",
       "      <td>otc alterations permit</td>\n",
       "      <td>11/07/2016</td>\n",
       "      <td>0156</td>\n",
       "      <td>011</td>\n",
       "      <td>1230</td>\n",
       "      <td>A</td>\n",
       "      <td>Pacific</td>\n",
       "      <td>Av</td>\n",
       "      <td>...</td>\n",
       "      <td>5.0</td>\n",
       "      <td>wood frame (5)</td>\n",
       "      <td>5.0</td>\n",
       "      <td>wood frame (5)</td>\n",
       "      <td>Y</td>\n",
       "      <td>3.0</td>\n",
       "      <td>Nob Hill</td>\n",
       "      <td>94109.0</td>\n",
       "      <td>(37.79595867909168, -122.41557405519474)</td>\n",
       "      <td>1443574295566</td>\n",
       "    </tr>\n",
       "    <tr>\n",
       "      <th>4</th>\n",
       "      <td>201611283529</td>\n",
       "      <td>6</td>\n",
       "      <td>demolitions</td>\n",
       "      <td>11/28/2016</td>\n",
       "      <td>0342</td>\n",
       "      <td>001</td>\n",
       "      <td>950</td>\n",
       "      <td>A</td>\n",
       "      <td>Market</td>\n",
       "      <td>St</td>\n",
       "      <td>...</td>\n",
       "      <td>3.0</td>\n",
       "      <td>constr type 3</td>\n",
       "      <td>1.0</td>\n",
       "      <td>constr type 1</td>\n",
       "      <td>Y</td>\n",
       "      <td>6.0</td>\n",
       "      <td>Tenderloin</td>\n",
       "      <td>94102.0</td>\n",
       "      <td>(37.78315261897309, -122.40950883997789)</td>\n",
       "      <td>144548169992</td>\n",
       "    </tr>\n",
       "    <tr>\n",
       "      <th>5</th>\n",
       "      <td>201706149344</td>\n",
       "      <td>8</td>\n",
       "      <td>otc alterations permit</td>\n",
       "      <td>06/14/2017</td>\n",
       "      <td>4105</td>\n",
       "      <td>009</td>\n",
       "      <td>800</td>\n",
       "      <td>A</td>\n",
       "      <td>Indiana</td>\n",
       "      <td>St</td>\n",
       "      <td>...</td>\n",
       "      <td>1.0</td>\n",
       "      <td>constr type 1</td>\n",
       "      <td>1.0</td>\n",
       "      <td>constr type 1</td>\n",
       "      <td>Y</td>\n",
       "      <td>10.0</td>\n",
       "      <td>Potrero Hill</td>\n",
       "      <td>94107.0</td>\n",
       "      <td>(37.75922331346539, -122.39170402628598)</td>\n",
       "      <td>1466911170855</td>\n",
       "    </tr>\n",
       "    <tr>\n",
       "      <th>6</th>\n",
       "      <td>201706300814</td>\n",
       "      <td>8</td>\n",
       "      <td>otc alterations permit</td>\n",
       "      <td>06/30/2017</td>\n",
       "      <td>1739</td>\n",
       "      <td>020</td>\n",
       "      <td>1291</td>\n",
       "      <td>A</td>\n",
       "      <td>11th</td>\n",
       "      <td>Av</td>\n",
       "      <td>...</td>\n",
       "      <td>5.0</td>\n",
       "      <td>wood frame (5)</td>\n",
       "      <td>5.0</td>\n",
       "      <td>wood frame (5)</td>\n",
       "      <td>Y</td>\n",
       "      <td>5.0</td>\n",
       "      <td>Inner Sunset</td>\n",
       "      <td>94122.0</td>\n",
       "      <td>(37.764145640138565, -122.46875112470363)</td>\n",
       "      <td>1468970403692</td>\n",
       "    </tr>\n",
       "    <tr>\n",
       "      <th>7</th>\n",
       "      <td>M803667</td>\n",
       "      <td>8</td>\n",
       "      <td>otc alterations permit</td>\n",
       "      <td>06/30/2017</td>\n",
       "      <td>4789</td>\n",
       "      <td>014</td>\n",
       "      <td>1465</td>\n",
       "      <td>A</td>\n",
       "      <td>Revere</td>\n",
       "      <td>Av</td>\n",
       "      <td>...</td>\n",
       "      <td>5.0</td>\n",
       "      <td>wood frame (5)</td>\n",
       "      <td>5.0</td>\n",
       "      <td>wood frame (5)</td>\n",
       "      <td>Y</td>\n",
       "      <td>10.0</td>\n",
       "      <td>Bayview Hunters Point</td>\n",
       "      <td>94124.0</td>\n",
       "      <td>(37.73005099023611, -122.38784938916618)</td>\n",
       "      <td>1469035175050</td>\n",
       "    </tr>\n",
       "    <tr>\n",
       "      <th>8</th>\n",
       "      <td>M804227</td>\n",
       "      <td>8</td>\n",
       "      <td>otc alterations permit</td>\n",
       "      <td>07/05/2017</td>\n",
       "      <td>1212</td>\n",
       "      <td>054</td>\n",
       "      <td>2094</td>\n",
       "      <td>A</td>\n",
       "      <td>Fell</td>\n",
       "      <td>St</td>\n",
       "      <td>...</td>\n",
       "      <td>5.0</td>\n",
       "      <td>wood frame (5)</td>\n",
       "      <td>5.0</td>\n",
       "      <td>wood frame (5)</td>\n",
       "      <td>Y</td>\n",
       "      <td>5.0</td>\n",
       "      <td>Lone Mountain/USF</td>\n",
       "      <td>94117.0</td>\n",
       "      <td>(37.772393498502595, -122.45231466824669)</td>\n",
       "      <td>1469198253772</td>\n",
       "    </tr>\n",
       "    <tr>\n",
       "      <th>9</th>\n",
       "      <td>M804767</td>\n",
       "      <td>8</td>\n",
       "      <td>otc alterations permit</td>\n",
       "      <td>07/06/2017</td>\n",
       "      <td>1259</td>\n",
       "      <td>016</td>\n",
       "      <td>89</td>\n",
       "      <td>A</td>\n",
       "      <td>Alpine</td>\n",
       "      <td>Tr</td>\n",
       "      <td>...</td>\n",
       "      <td>5.0</td>\n",
       "      <td>wood frame (5)</td>\n",
       "      <td>5.0</td>\n",
       "      <td>wood frame (5)</td>\n",
       "      <td>Y</td>\n",
       "      <td>8.0</td>\n",
       "      <td>Haight Ashbury</td>\n",
       "      <td>94117.0</td>\n",
       "      <td>(37.7691724293766, -122.43734859051908)</td>\n",
       "      <td>146932394171</td>\n",
       "    </tr>\n",
       "    <tr>\n",
       "      <th>10</th>\n",
       "      <td>M805287</td>\n",
       "      <td>8</td>\n",
       "      <td>otc alterations permit</td>\n",
       "      <td>07/06/2017</td>\n",
       "      <td>3541</td>\n",
       "      <td>001</td>\n",
       "      <td>106</td>\n",
       "      <td>A</td>\n",
       "      <td>Sanchez</td>\n",
       "      <td>St</td>\n",
       "      <td>...</td>\n",
       "      <td>5.0</td>\n",
       "      <td>wood frame (5)</td>\n",
       "      <td>5.0</td>\n",
       "      <td>wood frame (5)</td>\n",
       "      <td>Y</td>\n",
       "      <td>8.0</td>\n",
       "      <td>Castro/Upper Market</td>\n",
       "      <td>94114.0</td>\n",
       "      <td>(37.767349757757145, -122.43140682973024)</td>\n",
       "      <td>1469445246849</td>\n",
       "    </tr>\n",
       "    <tr>\n",
       "      <th>11</th>\n",
       "      <td>M805907</td>\n",
       "      <td>8</td>\n",
       "      <td>otc alterations permit</td>\n",
       "      <td>07/07/2017</td>\n",
       "      <td>0829</td>\n",
       "      <td>021</td>\n",
       "      <td>675</td>\n",
       "      <td>A</td>\n",
       "      <td>Fell</td>\n",
       "      <td>St</td>\n",
       "      <td>...</td>\n",
       "      <td>5.0</td>\n",
       "      <td>wood frame (5)</td>\n",
       "      <td>5.0</td>\n",
       "      <td>wood frame (5)</td>\n",
       "      <td>Y</td>\n",
       "      <td>5.0</td>\n",
       "      <td>Hayes Valley</td>\n",
       "      <td>94102.0</td>\n",
       "      <td>(37.774914087334544, -122.42886839796792)</td>\n",
       "      <td>146961582526</td>\n",
       "    </tr>\n",
       "    <tr>\n",
       "      <th>12</th>\n",
       "      <td>M806447</td>\n",
       "      <td>8</td>\n",
       "      <td>otc alterations permit</td>\n",
       "      <td>07/10/2017</td>\n",
       "      <td>6537</td>\n",
       "      <td>023</td>\n",
       "      <td>4082</td>\n",
       "      <td>A</td>\n",
       "      <td>25th</td>\n",
       "      <td>St</td>\n",
       "      <td>...</td>\n",
       "      <td>5.0</td>\n",
       "      <td>wood frame (5)</td>\n",
       "      <td>5.0</td>\n",
       "      <td>wood frame (5)</td>\n",
       "      <td>Y</td>\n",
       "      <td>8.0</td>\n",
       "      <td>Noe Valley</td>\n",
       "      <td>94114.0</td>\n",
       "      <td>(37.75006779619502, -122.43127350268124)</td>\n",
       "      <td>1469781206718</td>\n",
       "    </tr>\n",
       "    <tr>\n",
       "      <th>13</th>\n",
       "      <td>201707252846</td>\n",
       "      <td>8</td>\n",
       "      <td>otc alterations permit</td>\n",
       "      <td>07/25/2017</td>\n",
       "      <td>6589</td>\n",
       "      <td>002R</td>\n",
       "      <td>681</td>\n",
       "      <td>A</td>\n",
       "      <td>27th</td>\n",
       "      <td>St</td>\n",
       "      <td>...</td>\n",
       "      <td>5.0</td>\n",
       "      <td>wood frame (5)</td>\n",
       "      <td>5.0</td>\n",
       "      <td>wood frame (5)</td>\n",
       "      <td>Y</td>\n",
       "      <td>8.0</td>\n",
       "      <td>Noe Valley</td>\n",
       "      <td>94131.0</td>\n",
       "      <td>(37.7462205625642, -122.4353484860549)</td>\n",
       "      <td>1471799208305</td>\n",
       "    </tr>\n",
       "    <tr>\n",
       "      <th>14</th>\n",
       "      <td>M813729</td>\n",
       "      <td>8</td>\n",
       "      <td>otc alterations permit</td>\n",
       "      <td>07/26/2017</td>\n",
       "      <td>1049</td>\n",
       "      <td>027</td>\n",
       "      <td>2761</td>\n",
       "      <td>A</td>\n",
       "      <td>Pine</td>\n",
       "      <td>St</td>\n",
       "      <td>...</td>\n",
       "      <td>5.0</td>\n",
       "      <td>wood frame (5)</td>\n",
       "      <td>5.0</td>\n",
       "      <td>wood frame (5)</td>\n",
       "      <td>Y</td>\n",
       "      <td>2.0</td>\n",
       "      <td>Pacific Heights</td>\n",
       "      <td>94115.0</td>\n",
       "      <td>(37.78676200041077, -122.44124093333335)</td>\n",
       "      <td>147203988249</td>\n",
       "    </tr>\n",
       "    <tr>\n",
       "      <th>15</th>\n",
       "      <td>M813907</td>\n",
       "      <td>8</td>\n",
       "      <td>otc alterations permit</td>\n",
       "      <td>07/27/2017</td>\n",
       "      <td>0243</td>\n",
       "      <td>043</td>\n",
       "      <td>840</td>\n",
       "      <td>A</td>\n",
       "      <td>Powell</td>\n",
       "      <td>St</td>\n",
       "      <td>...</td>\n",
       "      <td>5.0</td>\n",
       "      <td>wood frame (5)</td>\n",
       "      <td>5.0</td>\n",
       "      <td>wood frame (5)</td>\n",
       "      <td>Y</td>\n",
       "      <td>3.0</td>\n",
       "      <td>Chinatown</td>\n",
       "      <td>94108.0</td>\n",
       "      <td>(37.7926690651263, -122.40883941791454)</td>\n",
       "      <td>147208763456</td>\n",
       "    </tr>\n",
       "    <tr>\n",
       "      <th>16</th>\n",
       "      <td>M813967</td>\n",
       "      <td>8</td>\n",
       "      <td>otc alterations permit</td>\n",
       "      <td>07/27/2017</td>\n",
       "      <td>0268</td>\n",
       "      <td>008</td>\n",
       "      <td>220</td>\n",
       "      <td>A</td>\n",
       "      <td>Montgomery</td>\n",
       "      <td>St</td>\n",
       "      <td>...</td>\n",
       "      <td>5.0</td>\n",
       "      <td>wood frame (5)</td>\n",
       "      <td>5.0</td>\n",
       "      <td>wood frame (5)</td>\n",
       "      <td>Y</td>\n",
       "      <td>3.0</td>\n",
       "      <td>Financial District/South Beach</td>\n",
       "      <td>94104.0</td>\n",
       "      <td>(37.79130641988351, -122.40198579459195)</td>\n",
       "      <td>147211866168</td>\n",
       "    </tr>\n",
       "    <tr>\n",
       "      <th>17</th>\n",
       "      <td>M814148</td>\n",
       "      <td>8</td>\n",
       "      <td>otc alterations permit</td>\n",
       "      <td>07/27/2017</td>\n",
       "      <td>3621</td>\n",
       "      <td>097</td>\n",
       "      <td>3707</td>\n",
       "      <td>A</td>\n",
       "      <td>21st</td>\n",
       "      <td>St</td>\n",
       "      <td>...</td>\n",
       "      <td>5.0</td>\n",
       "      <td>wood frame (5)</td>\n",
       "      <td>5.0</td>\n",
       "      <td>wood frame (5)</td>\n",
       "      <td>Y</td>\n",
       "      <td>8.0</td>\n",
       "      <td>Noe Valley</td>\n",
       "      <td>94114.0</td>\n",
       "      <td>(37.75607840165479, -122.43041143390109)</td>\n",
       "      <td>1472184412108</td>\n",
       "    </tr>\n",
       "    <tr>\n",
       "      <th>18</th>\n",
       "      <td>201707283165</td>\n",
       "      <td>8</td>\n",
       "      <td>otc alterations permit</td>\n",
       "      <td>07/28/2017</td>\n",
       "      <td>0472</td>\n",
       "      <td>042</td>\n",
       "      <td>1307</td>\n",
       "      <td>A</td>\n",
       "      <td>Bay</td>\n",
       "      <td>St</td>\n",
       "      <td>...</td>\n",
       "      <td>5.0</td>\n",
       "      <td>wood frame (5)</td>\n",
       "      <td>5.0</td>\n",
       "      <td>wood frame (5)</td>\n",
       "      <td>Y</td>\n",
       "      <td>2.0</td>\n",
       "      <td>Marina</td>\n",
       "      <td>94123.0</td>\n",
       "      <td>(37.8035183252307, -122.42863180996076)</td>\n",
       "      <td>1472277302360</td>\n",
       "    </tr>\n",
       "    <tr>\n",
       "      <th>19</th>\n",
       "      <td>M814368</td>\n",
       "      <td>8</td>\n",
       "      <td>otc alterations permit</td>\n",
       "      <td>07/28/2017</td>\n",
       "      <td>2659</td>\n",
       "      <td>001</td>\n",
       "      <td>263</td>\n",
       "      <td>A</td>\n",
       "      <td>Corbett</td>\n",
       "      <td>Av</td>\n",
       "      <td>...</td>\n",
       "      <td>5.0</td>\n",
       "      <td>wood frame (5)</td>\n",
       "      <td>5.0</td>\n",
       "      <td>wood frame (5)</td>\n",
       "      <td>Y</td>\n",
       "      <td>8.0</td>\n",
       "      <td>Castro/Upper Market</td>\n",
       "      <td>94114.0</td>\n",
       "      <td>(37.761092365437214, -122.44402154957145)</td>\n",
       "      <td>1472295408612</td>\n",
       "    </tr>\n",
       "    <tr>\n",
       "      <th>20</th>\n",
       "      <td>M814967</td>\n",
       "      <td>8</td>\n",
       "      <td>otc alterations permit</td>\n",
       "      <td>07/31/2017</td>\n",
       "      <td>1176</td>\n",
       "      <td>068</td>\n",
       "      <td>1624</td>\n",
       "      <td>A</td>\n",
       "      <td>Fulton</td>\n",
       "      <td>St</td>\n",
       "      <td>...</td>\n",
       "      <td>5.0</td>\n",
       "      <td>wood frame (5)</td>\n",
       "      <td>5.0</td>\n",
       "      <td>wood frame (5)</td>\n",
       "      <td>Y</td>\n",
       "      <td>5.0</td>\n",
       "      <td>Lone Mountain/USF</td>\n",
       "      <td>94117.0</td>\n",
       "      <td>(37.77640228859421, -122.44361679686382)</td>\n",
       "      <td>1472619503582</td>\n",
       "    </tr>\n",
       "    <tr>\n",
       "      <th>21</th>\n",
       "      <td>201708013476</td>\n",
       "      <td>8</td>\n",
       "      <td>otc alterations permit</td>\n",
       "      <td>08/01/2017</td>\n",
       "      <td>6529</td>\n",
       "      <td>010</td>\n",
       "      <td>3410</td>\n",
       "      <td>A</td>\n",
       "      <td>26th</td>\n",
       "      <td>St</td>\n",
       "      <td>...</td>\n",
       "      <td>5.0</td>\n",
       "      <td>wood frame (5)</td>\n",
       "      <td>5.0</td>\n",
       "      <td>wood frame (5)</td>\n",
       "      <td>Y</td>\n",
       "      <td>9.0</td>\n",
       "      <td>Mission</td>\n",
       "      <td>94110.0</td>\n",
       "      <td>(37.74914175355125, -122.41849211166853)</td>\n",
       "      <td>1472727381751</td>\n",
       "    </tr>\n",
       "    <tr>\n",
       "      <th>22</th>\n",
       "      <td>201708013544</td>\n",
       "      <td>3</td>\n",
       "      <td>additions alterations or repairs</td>\n",
       "      <td>08/01/2017</td>\n",
       "      <td>0074</td>\n",
       "      <td>043</td>\n",
       "      <td>2150</td>\n",
       "      <td>A</td>\n",
       "      <td>Taylor</td>\n",
       "      <td>St</td>\n",
       "      <td>...</td>\n",
       "      <td>5.0</td>\n",
       "      <td>wood frame (5)</td>\n",
       "      <td>5.0</td>\n",
       "      <td>wood frame (5)</td>\n",
       "      <td>Y</td>\n",
       "      <td>3.0</td>\n",
       "      <td>Russian Hill</td>\n",
       "      <td>94133.0</td>\n",
       "      <td>(37.802405951667645, -122.41446286561653)</td>\n",
       "      <td>147281357792</td>\n",
       "    </tr>\n",
       "    <tr>\n",
       "      <th>23</th>\n",
       "      <td>M816927</td>\n",
       "      <td>8</td>\n",
       "      <td>otc alterations permit</td>\n",
       "      <td>08/07/2017</td>\n",
       "      <td>0941</td>\n",
       "      <td>012</td>\n",
       "      <td>2824</td>\n",
       "      <td>A</td>\n",
       "      <td>Filbert</td>\n",
       "      <td>St</td>\n",
       "      <td>...</td>\n",
       "      <td>5.0</td>\n",
       "      <td>wood frame (5)</td>\n",
       "      <td>5.0</td>\n",
       "      <td>wood frame (5)</td>\n",
       "      <td>Y</td>\n",
       "      <td>2.0</td>\n",
       "      <td>Marina</td>\n",
       "      <td>94123.0</td>\n",
       "      <td>(37.79697456740493, -122.44615769723546)</td>\n",
       "      <td>147359384812</td>\n",
       "    </tr>\n",
       "    <tr>\n",
       "      <th>24</th>\n",
       "      <td>201708084249</td>\n",
       "      <td>8</td>\n",
       "      <td>otc alterations permit</td>\n",
       "      <td>08/08/2017</td>\n",
       "      <td>0542</td>\n",
       "      <td>039</td>\n",
       "      <td>1</td>\n",
       "      <td>A</td>\n",
       "      <td>Charlton</td>\n",
       "      <td>Ct</td>\n",
       "      <td>...</td>\n",
       "      <td>5.0</td>\n",
       "      <td>wood frame (5)</td>\n",
       "      <td>5.0</td>\n",
       "      <td>wood frame (5)</td>\n",
       "      <td>Y</td>\n",
       "      <td>2.0</td>\n",
       "      <td>Marina</td>\n",
       "      <td>94123.0</td>\n",
       "      <td>(37.79739093461306, -122.43127133823367)</td>\n",
       "      <td>1473796372030</td>\n",
       "    </tr>\n",
       "    <tr>\n",
       "      <th>25</th>\n",
       "      <td>201708165014</td>\n",
       "      <td>8</td>\n",
       "      <td>otc alterations permit</td>\n",
       "      <td>08/16/2017</td>\n",
       "      <td>1824</td>\n",
       "      <td>006</td>\n",
       "      <td>1435</td>\n",
       "      <td>A</td>\n",
       "      <td>29th</td>\n",
       "      <td>Av</td>\n",
       "      <td>...</td>\n",
       "      <td>5.0</td>\n",
       "      <td>wood frame (5)</td>\n",
       "      <td>5.0</td>\n",
       "      <td>wood frame (5)</td>\n",
       "      <td>Y</td>\n",
       "      <td>4.0</td>\n",
       "      <td>Sunset/Parkside</td>\n",
       "      <td>94122.0</td>\n",
       "      <td>(37.76052279949518, -122.4879889739165)</td>\n",
       "      <td>1474841115935</td>\n",
       "    </tr>\n",
       "    <tr>\n",
       "      <th>26</th>\n",
       "      <td>M820728</td>\n",
       "      <td>8</td>\n",
       "      <td>otc alterations permit</td>\n",
       "      <td>08/18/2017</td>\n",
       "      <td>1449</td>\n",
       "      <td>006</td>\n",
       "      <td>331</td>\n",
       "      <td>A</td>\n",
       "      <td>17th</td>\n",
       "      <td>Av</td>\n",
       "      <td>...</td>\n",
       "      <td>5.0</td>\n",
       "      <td>wood frame (5)</td>\n",
       "      <td>5.0</td>\n",
       "      <td>wood frame (5)</td>\n",
       "      <td>Y</td>\n",
       "      <td>1.0</td>\n",
       "      <td>Outer Richmond</td>\n",
       "      <td>94121.0</td>\n",
       "      <td>(37.78177022745135, -122.47658979438802)</td>\n",
       "      <td>1475223100163</td>\n",
       "    </tr>\n",
       "    <tr>\n",
       "      <th>27</th>\n",
       "      <td>M821207</td>\n",
       "      <td>8</td>\n",
       "      <td>otc alterations permit</td>\n",
       "      <td>08/21/2017</td>\n",
       "      <td>1193</td>\n",
       "      <td>024</td>\n",
       "      <td>120</td>\n",
       "      <td>A</td>\n",
       "      <td>Shrader</td>\n",
       "      <td>St</td>\n",
       "      <td>...</td>\n",
       "      <td>5.0</td>\n",
       "      <td>wood frame (5)</td>\n",
       "      <td>5.0</td>\n",
       "      <td>wood frame (5)</td>\n",
       "      <td>Y</td>\n",
       "      <td>5.0</td>\n",
       "      <td>Lone Mountain/USF</td>\n",
       "      <td>94117.0</td>\n",
       "      <td>(37.77371007080848, -122.45243180846707)</td>\n",
       "      <td>147537591942</td>\n",
       "    </tr>\n",
       "    <tr>\n",
       "      <th>28</th>\n",
       "      <td>M821268</td>\n",
       "      <td>8</td>\n",
       "      <td>otc alterations permit</td>\n",
       "      <td>08/21/2017</td>\n",
       "      <td>1851</td>\n",
       "      <td>012</td>\n",
       "      <td>1512</td>\n",
       "      <td>A</td>\n",
       "      <td>06th</td>\n",
       "      <td>Av</td>\n",
       "      <td>...</td>\n",
       "      <td>5.0</td>\n",
       "      <td>wood frame (5)</td>\n",
       "      <td>5.0</td>\n",
       "      <td>wood frame (5)</td>\n",
       "      <td>Y</td>\n",
       "      <td>7.0</td>\n",
       "      <td>Inner Sunset</td>\n",
       "      <td>94122.0</td>\n",
       "      <td>(37.760252335082875, -122.4625393396095)</td>\n",
       "      <td>1475405117215</td>\n",
       "    </tr>\n",
       "    <tr>\n",
       "      <th>29</th>\n",
       "      <td>M821847</td>\n",
       "      <td>8</td>\n",
       "      <td>otc alterations permit</td>\n",
       "      <td>08/22/2017</td>\n",
       "      <td>0326</td>\n",
       "      <td>001</td>\n",
       "      <td>165</td>\n",
       "      <td>A</td>\n",
       "      <td>Powell</td>\n",
       "      <td>St</td>\n",
       "      <td>...</td>\n",
       "      <td>5.0</td>\n",
       "      <td>wood frame (5)</td>\n",
       "      <td>5.0</td>\n",
       "      <td>wood frame (5)</td>\n",
       "      <td>Y</td>\n",
       "      <td>3.0</td>\n",
       "      <td>Tenderloin</td>\n",
       "      <td>94102.0</td>\n",
       "      <td>(37.78625524960107, -122.40834431815433)</td>\n",
       "      <td>1475605447747</td>\n",
       "    </tr>\n",
       "  </tbody>\n",
       "</table>\n",
       "<p>30 rows × 43 columns</p>\n",
       "</div>"
      ],
      "text/plain": [
       "   Permit Number  Permit Type            Permit Type Definition  \\\n",
       "0   201505065519            4                      sign - erect   \n",
       "1   201604195146            4                      sign - erect   \n",
       "2   201605278609            3  additions alterations or repairs   \n",
       "3   201611072166            8            otc alterations permit   \n",
       "4   201611283529            6                       demolitions   \n",
       "5   201706149344            8            otc alterations permit   \n",
       "6   201706300814            8            otc alterations permit   \n",
       "7        M803667            8            otc alterations permit   \n",
       "8        M804227            8            otc alterations permit   \n",
       "9        M804767            8            otc alterations permit   \n",
       "10       M805287            8            otc alterations permit   \n",
       "11       M805907            8            otc alterations permit   \n",
       "12       M806447            8            otc alterations permit   \n",
       "13  201707252846            8            otc alterations permit   \n",
       "14       M813729            8            otc alterations permit   \n",
       "15       M813907            8            otc alterations permit   \n",
       "16       M813967            8            otc alterations permit   \n",
       "17       M814148            8            otc alterations permit   \n",
       "18  201707283165            8            otc alterations permit   \n",
       "19       M814368            8            otc alterations permit   \n",
       "20       M814967            8            otc alterations permit   \n",
       "21  201708013476            8            otc alterations permit   \n",
       "22  201708013544            3  additions alterations or repairs   \n",
       "23       M816927            8            otc alterations permit   \n",
       "24  201708084249            8            otc alterations permit   \n",
       "25  201708165014            8            otc alterations permit   \n",
       "26       M820728            8            otc alterations permit   \n",
       "27       M821207            8            otc alterations permit   \n",
       "28       M821268            8            otc alterations permit   \n",
       "29       M821847            8            otc alterations permit   \n",
       "\n",
       "   Permit Creation Date Block   Lot  Street Number Street Number Suffix  \\\n",
       "0            05/06/2015  0326   023            140                    A   \n",
       "1            04/19/2016  0306   007            440                    A   \n",
       "2            05/27/2016  0595   203           1647                    A   \n",
       "3            11/07/2016  0156   011           1230                    A   \n",
       "4            11/28/2016  0342   001            950                    A   \n",
       "5            06/14/2017  4105   009            800                    A   \n",
       "6            06/30/2017  1739   020           1291                    A   \n",
       "7            06/30/2017  4789   014           1465                    A   \n",
       "8            07/05/2017  1212   054           2094                    A   \n",
       "9            07/06/2017  1259   016             89                    A   \n",
       "10           07/06/2017  3541   001            106                    A   \n",
       "11           07/07/2017  0829   021            675                    A   \n",
       "12           07/10/2017  6537   023           4082                    A   \n",
       "13           07/25/2017  6589  002R            681                    A   \n",
       "14           07/26/2017  1049   027           2761                    A   \n",
       "15           07/27/2017  0243   043            840                    A   \n",
       "16           07/27/2017  0268   008            220                    A   \n",
       "17           07/27/2017  3621   097           3707                    A   \n",
       "18           07/28/2017  0472   042           1307                    A   \n",
       "19           07/28/2017  2659   001            263                    A   \n",
       "20           07/31/2017  1176   068           1624                    A   \n",
       "21           08/01/2017  6529   010           3410                    A   \n",
       "22           08/01/2017  0074   043           2150                    A   \n",
       "23           08/07/2017  0941   012           2824                    A   \n",
       "24           08/08/2017  0542   039              1                    A   \n",
       "25           08/16/2017  1824   006           1435                    A   \n",
       "26           08/18/2017  1449   006            331                    A   \n",
       "27           08/21/2017  1193   024            120                    A   \n",
       "28           08/21/2017  1851   012           1512                    A   \n",
       "29           08/22/2017  0326   001            165                    A   \n",
       "\n",
       "   Street Name Street Suffix  ...  Existing Construction Type  \\\n",
       "0        Ellis            St  ...                         3.0   \n",
       "1        Geary            St  ...                         3.0   \n",
       "2      Pacific            Av  ...                         1.0   \n",
       "3      Pacific            Av  ...                         5.0   \n",
       "4       Market            St  ...                         3.0   \n",
       "5      Indiana            St  ...                         1.0   \n",
       "6         11th            Av  ...                         5.0   \n",
       "7       Revere            Av  ...                         5.0   \n",
       "8         Fell            St  ...                         5.0   \n",
       "9       Alpine            Tr  ...                         5.0   \n",
       "10     Sanchez            St  ...                         5.0   \n",
       "11        Fell            St  ...                         5.0   \n",
       "12        25th            St  ...                         5.0   \n",
       "13        27th            St  ...                         5.0   \n",
       "14        Pine            St  ...                         5.0   \n",
       "15      Powell            St  ...                         5.0   \n",
       "16  Montgomery            St  ...                         5.0   \n",
       "17        21st            St  ...                         5.0   \n",
       "18         Bay            St  ...                         5.0   \n",
       "19     Corbett            Av  ...                         5.0   \n",
       "20      Fulton            St  ...                         5.0   \n",
       "21        26th            St  ...                         5.0   \n",
       "22      Taylor            St  ...                         5.0   \n",
       "23     Filbert            St  ...                         5.0   \n",
       "24    Charlton            Ct  ...                         5.0   \n",
       "25        29th            Av  ...                         5.0   \n",
       "26        17th            Av  ...                         5.0   \n",
       "27     Shrader            St  ...                         5.0   \n",
       "28        06th            Av  ...                         5.0   \n",
       "29      Powell            St  ...                         5.0   \n",
       "\n",
       "   Existing Construction Type Description Proposed Construction Type  \\\n",
       "0                           constr type 3                        1.0   \n",
       "1                           constr type 3                        1.0   \n",
       "2                           constr type 1                        1.0   \n",
       "3                          wood frame (5)                        5.0   \n",
       "4                           constr type 3                        1.0   \n",
       "5                           constr type 1                        1.0   \n",
       "6                          wood frame (5)                        5.0   \n",
       "7                          wood frame (5)                        5.0   \n",
       "8                          wood frame (5)                        5.0   \n",
       "9                          wood frame (5)                        5.0   \n",
       "10                         wood frame (5)                        5.0   \n",
       "11                         wood frame (5)                        5.0   \n",
       "12                         wood frame (5)                        5.0   \n",
       "13                         wood frame (5)                        5.0   \n",
       "14                         wood frame (5)                        5.0   \n",
       "15                         wood frame (5)                        5.0   \n",
       "16                         wood frame (5)                        5.0   \n",
       "17                         wood frame (5)                        5.0   \n",
       "18                         wood frame (5)                        5.0   \n",
       "19                         wood frame (5)                        5.0   \n",
       "20                         wood frame (5)                        5.0   \n",
       "21                         wood frame (5)                        5.0   \n",
       "22                         wood frame (5)                        5.0   \n",
       "23                         wood frame (5)                        5.0   \n",
       "24                         wood frame (5)                        5.0   \n",
       "25                         wood frame (5)                        5.0   \n",
       "26                         wood frame (5)                        5.0   \n",
       "27                         wood frame (5)                        5.0   \n",
       "28                         wood frame (5)                        5.0   \n",
       "29                         wood frame (5)                        5.0   \n",
       "\n",
       "   Proposed Construction Type Description Site Permit Supervisor District  \\\n",
       "0                           constr type 1           Y                 3.0   \n",
       "1                           constr type 1           Y                 3.0   \n",
       "2                           constr type 1           Y                 3.0   \n",
       "3                          wood frame (5)           Y                 3.0   \n",
       "4                           constr type 1           Y                 6.0   \n",
       "5                           constr type 1           Y                10.0   \n",
       "6                          wood frame (5)           Y                 5.0   \n",
       "7                          wood frame (5)           Y                10.0   \n",
       "8                          wood frame (5)           Y                 5.0   \n",
       "9                          wood frame (5)           Y                 8.0   \n",
       "10                         wood frame (5)           Y                 8.0   \n",
       "11                         wood frame (5)           Y                 5.0   \n",
       "12                         wood frame (5)           Y                 8.0   \n",
       "13                         wood frame (5)           Y                 8.0   \n",
       "14                         wood frame (5)           Y                 2.0   \n",
       "15                         wood frame (5)           Y                 3.0   \n",
       "16                         wood frame (5)           Y                 3.0   \n",
       "17                         wood frame (5)           Y                 8.0   \n",
       "18                         wood frame (5)           Y                 2.0   \n",
       "19                         wood frame (5)           Y                 8.0   \n",
       "20                         wood frame (5)           Y                 5.0   \n",
       "21                         wood frame (5)           Y                 9.0   \n",
       "22                         wood frame (5)           Y                 3.0   \n",
       "23                         wood frame (5)           Y                 2.0   \n",
       "24                         wood frame (5)           Y                 2.0   \n",
       "25                         wood frame (5)           Y                 4.0   \n",
       "26                         wood frame (5)           Y                 1.0   \n",
       "27                         wood frame (5)           Y                 5.0   \n",
       "28                         wood frame (5)           Y                 7.0   \n",
       "29                         wood frame (5)           Y                 3.0   \n",
       "\n",
       "   Neighborhoods - Analysis Boundaries  Zipcode  \\\n",
       "0                           Tenderloin  94102.0   \n",
       "1                           Tenderloin  94102.0   \n",
       "2                         Russian Hill  94109.0   \n",
       "3                             Nob Hill  94109.0   \n",
       "4                           Tenderloin  94102.0   \n",
       "5                         Potrero Hill  94107.0   \n",
       "6                         Inner Sunset  94122.0   \n",
       "7                Bayview Hunters Point  94124.0   \n",
       "8                    Lone Mountain/USF  94117.0   \n",
       "9                       Haight Ashbury  94117.0   \n",
       "10                 Castro/Upper Market  94114.0   \n",
       "11                        Hayes Valley  94102.0   \n",
       "12                          Noe Valley  94114.0   \n",
       "13                          Noe Valley  94131.0   \n",
       "14                     Pacific Heights  94115.0   \n",
       "15                           Chinatown  94108.0   \n",
       "16      Financial District/South Beach  94104.0   \n",
       "17                          Noe Valley  94114.0   \n",
       "18                              Marina  94123.0   \n",
       "19                 Castro/Upper Market  94114.0   \n",
       "20                   Lone Mountain/USF  94117.0   \n",
       "21                             Mission  94110.0   \n",
       "22                        Russian Hill  94133.0   \n",
       "23                              Marina  94123.0   \n",
       "24                              Marina  94123.0   \n",
       "25                     Sunset/Parkside  94122.0   \n",
       "26                      Outer Richmond  94121.0   \n",
       "27                   Lone Mountain/USF  94117.0   \n",
       "28                        Inner Sunset  94122.0   \n",
       "29                          Tenderloin  94102.0   \n",
       "\n",
       "                                     Location      Record ID  \n",
       "0   (37.785719256680785, -122.40852313194863)  1380611233945  \n",
       "1    (37.78733980600732, -122.41063199757738)  1420164406718  \n",
       "2     (37.7946573324287, -122.42232562979227)  1424856504716  \n",
       "3    (37.79595867909168, -122.41557405519474)  1443574295566  \n",
       "4    (37.78315261897309, -122.40950883997789)   144548169992  \n",
       "5    (37.75922331346539, -122.39170402628598)  1466911170855  \n",
       "6   (37.764145640138565, -122.46875112470363)  1468970403692  \n",
       "7    (37.73005099023611, -122.38784938916618)  1469035175050  \n",
       "8   (37.772393498502595, -122.45231466824669)  1469198253772  \n",
       "9     (37.7691724293766, -122.43734859051908)   146932394171  \n",
       "10  (37.767349757757145, -122.43140682973024)  1469445246849  \n",
       "11  (37.774914087334544, -122.42886839796792)   146961582526  \n",
       "12   (37.75006779619502, -122.43127350268124)  1469781206718  \n",
       "13     (37.7462205625642, -122.4353484860549)  1471799208305  \n",
       "14   (37.78676200041077, -122.44124093333335)   147203988249  \n",
       "15    (37.7926690651263, -122.40883941791454)   147208763456  \n",
       "16   (37.79130641988351, -122.40198579459195)   147211866168  \n",
       "17   (37.75607840165479, -122.43041143390109)  1472184412108  \n",
       "18    (37.8035183252307, -122.42863180996076)  1472277302360  \n",
       "19  (37.761092365437214, -122.44402154957145)  1472295408612  \n",
       "20   (37.77640228859421, -122.44361679686382)  1472619503582  \n",
       "21   (37.74914175355125, -122.41849211166853)  1472727381751  \n",
       "22  (37.802405951667645, -122.41446286561653)   147281357792  \n",
       "23   (37.79697456740493, -122.44615769723546)   147359384812  \n",
       "24   (37.79739093461306, -122.43127133823367)  1473796372030  \n",
       "25    (37.76052279949518, -122.4879889739165)  1474841115935  \n",
       "26   (37.78177022745135, -122.47658979438802)  1475223100163  \n",
       "27   (37.77371007080848, -122.45243180846707)   147537591942  \n",
       "28   (37.760252335082875, -122.4625393396095)  1475405117215  \n",
       "29   (37.78625524960107, -122.40834431815433)  1475605447747  \n",
       "\n",
       "[30 rows x 43 columns]"
      ]
     },
     "execution_count": 16,
     "metadata": {},
     "output_type": "execute_result"
    }
   ],
   "source": [
    "# TODO: Your code here\n",
    "sf_permits_with_na_imputed = sf_permits.fillna(method=\"bfill\", axis=0).fillna(0)\n",
    "sf_permits_with_na_imputed.head(30)"
   ]
  },
  {
   "cell_type": "code",
   "execution_count": 17,
   "id": "a6282121",
   "metadata": {
    "execution": {
     "iopub.execute_input": "2023-06-07T12:31:30.730109Z",
     "iopub.status.busy": "2023-06-07T12:31:30.729693Z",
     "iopub.status.idle": "2023-06-07T12:31:30.743057Z",
     "shell.execute_reply": "2023-06-07T12:31:30.741444Z"
    },
    "papermill": {
     "duration": 0.028223,
     "end_time": "2023-06-07T12:31:30.745906",
     "exception": false,
     "start_time": "2023-06-07T12:31:30.717683",
     "status": "completed"
    },
    "tags": []
   },
   "outputs": [
    {
     "data": {
      "application/javascript": [
       "parent.postMessage({\"jupyterEvent\": \"custom.exercise_interaction\", \"data\": {\"outcomeType\": 1, \"valueTowardsCompletion\": 0.16666666666666666, \"interactionType\": 1, \"questionType\": 1, \"questionId\": \"6_ImputeAutomatically\", \"learnToolsVersion\": \"0.3.4\", \"failureMessage\": \"\", \"exceptionClass\": \"\", \"trace\": \"\"}}, \"*\")"
      ],
      "text/plain": [
       "<IPython.core.display.Javascript object>"
      ]
     },
     "metadata": {},
     "output_type": "display_data"
    },
    {
     "data": {
      "text/markdown": [
       "<span style=\"color:#33cc33\">Correct</span>"
      ],
      "text/plain": [
       "Correct"
      ]
     },
     "metadata": {},
     "output_type": "display_data"
    }
   ],
   "source": [
    "# Check your answer\n",
    "q6.check()"
   ]
  },
  {
   "cell_type": "code",
   "execution_count": 18,
   "id": "84410f17",
   "metadata": {
    "execution": {
     "iopub.execute_input": "2023-06-07T12:31:30.770721Z",
     "iopub.status.busy": "2023-06-07T12:31:30.770319Z",
     "iopub.status.idle": "2023-06-07T12:31:30.775996Z",
     "shell.execute_reply": "2023-06-07T12:31:30.774690Z"
    },
    "papermill": {
     "duration": 0.020503,
     "end_time": "2023-06-07T12:31:30.778453",
     "exception": false,
     "start_time": "2023-06-07T12:31:30.757950",
     "status": "completed"
    },
    "tags": []
   },
   "outputs": [],
   "source": [
    "# Lines below will give you a hint or solution code\n",
    "#q6.hint()\n",
    "#q6.solution()"
   ]
  },
  {
   "cell_type": "markdown",
   "id": "3a4acaa7",
   "metadata": {
    "papermill": {
     "duration": 0.010191,
     "end_time": "2023-06-07T12:31:30.800066",
     "exception": false,
     "start_time": "2023-06-07T12:31:30.789875",
     "status": "completed"
    },
    "tags": []
   },
   "source": [
    "# More practice\n",
    "\n",
    "If you're looking for more practice handling missing values:\n",
    "\n",
    "* Check out [this noteboook](https://www.kaggle.com/alexisbcook/missing-values) on handling missing values using scikit-learn's imputer. \n",
    "* Look back at the \"Zipcode\" column in the `sf_permits` dataset, which has some missing values. How would you go about figuring out what the actual zipcode of each address should be? (You might try using another dataset. You can search for datasets about San Fransisco on the [Datasets listing](https://www.kaggle.com/datasets).) \n",
    "\n",
    "# Keep going\n",
    "\n",
    "In the next lesson, learn how to [**apply scaling and normalization**](https://www.kaggle.com/alexisbcook/scaling-and-normalization) to transform your data."
   ]
  },
  {
   "cell_type": "markdown",
   "id": "5d59214d",
   "metadata": {
    "papermill": {
     "duration": 0.010036,
     "end_time": "2023-06-07T12:31:30.820549",
     "exception": false,
     "start_time": "2023-06-07T12:31:30.810513",
     "status": "completed"
    },
    "tags": []
   },
   "source": [
    "---\n",
    "\n",
    "\n",
    "\n",
    "\n",
    "*Have questions or comments? Visit the [course discussion forum](https://www.kaggle.com/learn/data-cleaning/discussion) to chat with other learners.*"
   ]
  }
 ],
 "metadata": {
  "kernelspec": {
   "display_name": "Python 3",
   "language": "python",
   "name": "python3"
  },
  "language_info": {
   "codemirror_mode": {
    "name": "ipython",
    "version": 3
   },
   "file_extension": ".py",
   "mimetype": "text/x-python",
   "name": "python",
   "nbconvert_exporter": "python",
   "pygments_lexer": "ipython3",
   "version": "3.10.10"
  },
  "papermill": {
   "default_parameters": {},
   "duration": 25.532533,
   "end_time": "2023-06-07T12:31:32.059097",
   "environment_variables": {},
   "exception": null,
   "input_path": "__notebook__.ipynb",
   "output_path": "__notebook__.ipynb",
   "parameters": {},
   "start_time": "2023-06-07T12:31:06.526564",
   "version": "2.4.0"
  }
 },
 "nbformat": 4,
 "nbformat_minor": 5
}
