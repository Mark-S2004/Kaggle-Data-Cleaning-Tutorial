{
 "cells": [
  {
   "cell_type": "markdown",
   "id": "1899ed22",
   "metadata": {
    "papermill": {
     "duration": 0.009807,
     "end_time": "2023-06-08T13:13:58.288801",
     "exception": false,
     "start_time": "2023-06-08T13:13:58.278994",
     "status": "completed"
    },
    "tags": []
   },
   "source": [
    "**This notebook is an exercise in the [Data Cleaning](https://www.kaggle.com/learn/data-cleaning) course.  You can reference the tutorial at [this link](https://www.kaggle.com/alexisbcook/parsing-dates).**\n",
    "\n",
    "---\n"
   ]
  },
  {
   "cell_type": "markdown",
   "id": "1ff8c32b",
   "metadata": {
    "papermill": {
     "duration": 0.009101,
     "end_time": "2023-06-08T13:13:58.307649",
     "exception": false,
     "start_time": "2023-06-08T13:13:58.298548",
     "status": "completed"
    },
    "tags": []
   },
   "source": [
    "In this exercise, you'll apply what you learned in the **Parsing dates** tutorial.\n",
    "\n",
    "# Setup\n",
    "\n",
    "The questions below will give you feedback on your work. Run the following cell to set up the feedback system."
   ]
  },
  {
   "cell_type": "code",
   "execution_count": 1,
   "id": "8b0c765e",
   "metadata": {
    "execution": {
     "iopub.execute_input": "2023-06-08T13:13:58.329512Z",
     "iopub.status.busy": "2023-06-08T13:13:58.329028Z",
     "iopub.status.idle": "2023-06-08T13:14:00.121495Z",
     "shell.execute_reply": "2023-06-08T13:14:00.120201Z"
    },
    "papermill": {
     "duration": 1.806989,
     "end_time": "2023-06-08T13:14:00.124852",
     "exception": false,
     "start_time": "2023-06-08T13:13:58.317863",
     "status": "completed"
    },
    "tags": []
   },
   "outputs": [
    {
     "name": "stdout",
     "output_type": "stream",
     "text": [
      "Setup Complete\n"
     ]
    }
   ],
   "source": [
    "from learntools.core import binder\n",
    "binder.bind(globals())\n",
    "from learntools.data_cleaning.ex3 import *\n",
    "print(\"Setup Complete\")"
   ]
  },
  {
   "cell_type": "markdown",
   "id": "b2c681dd",
   "metadata": {
    "papermill": {
     "duration": 0.009451,
     "end_time": "2023-06-08T13:14:00.146023",
     "exception": false,
     "start_time": "2023-06-08T13:14:00.136572",
     "status": "completed"
    },
    "tags": []
   },
   "source": [
    "# Get our environment set up\n",
    "\n",
    "The first thing we'll need to do is load in the libraries and dataset we'll be using. We'll be working with a dataset containing information on earthquakes that occured between 1965 and 2016."
   ]
  },
  {
   "cell_type": "code",
   "execution_count": 2,
   "id": "996ddb47",
   "metadata": {
    "execution": {
     "iopub.execute_input": "2023-06-08T13:14:00.168616Z",
     "iopub.status.busy": "2023-06-08T13:14:00.167792Z",
     "iopub.status.idle": "2023-06-08T13:14:00.301934Z",
     "shell.execute_reply": "2023-06-08T13:14:00.300580Z"
    },
    "papermill": {
     "duration": 0.148701,
     "end_time": "2023-06-08T13:14:00.304661",
     "exception": false,
     "start_time": "2023-06-08T13:14:00.155960",
     "status": "completed"
    },
    "tags": []
   },
   "outputs": [],
   "source": [
    "# modules we'll use\n",
    "import pandas as pd\n",
    "import numpy as np\n",
    "import seaborn as sns\n",
    "import datetime\n",
    "\n",
    "# read in our data\n",
    "earthquakes = pd.read_csv(\"../input/earthquake-database/database.csv\")\n",
    "\n",
    "# set seed for reproducibility\n",
    "np.random.seed(0)"
   ]
  },
  {
   "cell_type": "markdown",
   "id": "f1227482",
   "metadata": {
    "papermill": {
     "duration": 0.009784,
     "end_time": "2023-06-08T13:14:00.324529",
     "exception": false,
     "start_time": "2023-06-08T13:14:00.314745",
     "status": "completed"
    },
    "tags": []
   },
   "source": [
    "# 1) Check the data type of our date column\n",
    "\n",
    "You'll be working with the \"Date\" column from the `earthquakes` dataframe.  Investigate this column now: does it look like it contains dates?  What is the dtype of the column?"
   ]
  },
  {
   "cell_type": "code",
   "execution_count": 3,
   "id": "e818e7c5",
   "metadata": {
    "execution": {
     "iopub.execute_input": "2023-06-08T13:14:00.346244Z",
     "iopub.status.busy": "2023-06-08T13:14:00.345204Z",
     "iopub.status.idle": "2023-06-08T13:14:00.355219Z",
     "shell.execute_reply": "2023-06-08T13:14:00.353710Z"
    },
    "papermill": {
     "duration": 0.023836,
     "end_time": "2023-06-08T13:14:00.357919",
     "exception": false,
     "start_time": "2023-06-08T13:14:00.334083",
     "status": "completed"
    },
    "tags": []
   },
   "outputs": [
    {
     "data": {
      "text/plain": [
       "dtype('O')"
      ]
     },
     "execution_count": 3,
     "metadata": {},
     "output_type": "execute_result"
    }
   ],
   "source": [
    "# TODO: Your code here!\n",
    "earthquakes[\"Date\"].dtype"
   ]
  },
  {
   "cell_type": "markdown",
   "id": "3f816467",
   "metadata": {
    "papermill": {
     "duration": 0.009496,
     "end_time": "2023-06-08T13:14:00.377295",
     "exception": false,
     "start_time": "2023-06-08T13:14:00.367799",
     "status": "completed"
    },
    "tags": []
   },
   "source": [
    "# 2) Convert our date columns to datetime\n",
    "\n",
    "Most of the entries in the \"Date\" column follow the same format: \"month/day/four-digit year\".  However, the entry at index 3378 follows a completely different pattern.  Run the code cell below to see this."
   ]
  },
  {
   "cell_type": "code",
   "execution_count": 4,
   "id": "d08b673c",
   "metadata": {
    "execution": {
     "iopub.execute_input": "2023-06-08T13:14:00.399541Z",
     "iopub.status.busy": "2023-06-08T13:14:00.399082Z",
     "iopub.status.idle": "2023-06-08T13:14:00.444816Z",
     "shell.execute_reply": "2023-06-08T13:14:00.443213Z"
    },
    "papermill": {
     "duration": 0.061286,
     "end_time": "2023-06-08T13:14:00.448429",
     "exception": false,
     "start_time": "2023-06-08T13:14:00.387143",
     "status": "completed"
    },
    "tags": []
   },
   "outputs": [
    {
     "data": {
      "text/html": [
       "<div>\n",
       "<style scoped>\n",
       "    .dataframe tbody tr th:only-of-type {\n",
       "        vertical-align: middle;\n",
       "    }\n",
       "\n",
       "    .dataframe tbody tr th {\n",
       "        vertical-align: top;\n",
       "    }\n",
       "\n",
       "    .dataframe thead th {\n",
       "        text-align: right;\n",
       "    }\n",
       "</style>\n",
       "<table border=\"1\" class=\"dataframe\">\n",
       "  <thead>\n",
       "    <tr style=\"text-align: right;\">\n",
       "      <th></th>\n",
       "      <th>Date</th>\n",
       "      <th>Time</th>\n",
       "      <th>Latitude</th>\n",
       "      <th>Longitude</th>\n",
       "      <th>Type</th>\n",
       "      <th>Depth</th>\n",
       "      <th>Depth Error</th>\n",
       "      <th>Depth Seismic Stations</th>\n",
       "      <th>Magnitude</th>\n",
       "      <th>Magnitude Type</th>\n",
       "      <th>...</th>\n",
       "      <th>Magnitude Seismic Stations</th>\n",
       "      <th>Azimuthal Gap</th>\n",
       "      <th>Horizontal Distance</th>\n",
       "      <th>Horizontal Error</th>\n",
       "      <th>Root Mean Square</th>\n",
       "      <th>ID</th>\n",
       "      <th>Source</th>\n",
       "      <th>Location Source</th>\n",
       "      <th>Magnitude Source</th>\n",
       "      <th>Status</th>\n",
       "    </tr>\n",
       "  </thead>\n",
       "  <tbody>\n",
       "    <tr>\n",
       "      <th>3378</th>\n",
       "      <td>1975-02-23T02:58:41.000Z</td>\n",
       "      <td>1975-02-23T02:58:41.000Z</td>\n",
       "      <td>8.017</td>\n",
       "      <td>124.075</td>\n",
       "      <td>Earthquake</td>\n",
       "      <td>623.0</td>\n",
       "      <td>NaN</td>\n",
       "      <td>NaN</td>\n",
       "      <td>5.6</td>\n",
       "      <td>MB</td>\n",
       "      <td>...</td>\n",
       "      <td>NaN</td>\n",
       "      <td>NaN</td>\n",
       "      <td>NaN</td>\n",
       "      <td>NaN</td>\n",
       "      <td>NaN</td>\n",
       "      <td>USP0000A09</td>\n",
       "      <td>US</td>\n",
       "      <td>US</td>\n",
       "      <td>US</td>\n",
       "      <td>Reviewed</td>\n",
       "    </tr>\n",
       "    <tr>\n",
       "      <th>3379</th>\n",
       "      <td>02/23/1975</td>\n",
       "      <td>03:53:36</td>\n",
       "      <td>-21.727</td>\n",
       "      <td>-71.356</td>\n",
       "      <td>Earthquake</td>\n",
       "      <td>33.0</td>\n",
       "      <td>NaN</td>\n",
       "      <td>NaN</td>\n",
       "      <td>5.6</td>\n",
       "      <td>MB</td>\n",
       "      <td>...</td>\n",
       "      <td>NaN</td>\n",
       "      <td>NaN</td>\n",
       "      <td>NaN</td>\n",
       "      <td>NaN</td>\n",
       "      <td>NaN</td>\n",
       "      <td>USP0000A0A</td>\n",
       "      <td>US</td>\n",
       "      <td>US</td>\n",
       "      <td>US</td>\n",
       "      <td>Reviewed</td>\n",
       "    </tr>\n",
       "    <tr>\n",
       "      <th>3380</th>\n",
       "      <td>02/23/1975</td>\n",
       "      <td>07:34:11</td>\n",
       "      <td>-10.879</td>\n",
       "      <td>166.667</td>\n",
       "      <td>Earthquake</td>\n",
       "      <td>33.0</td>\n",
       "      <td>NaN</td>\n",
       "      <td>NaN</td>\n",
       "      <td>5.5</td>\n",
       "      <td>MS</td>\n",
       "      <td>...</td>\n",
       "      <td>NaN</td>\n",
       "      <td>NaN</td>\n",
       "      <td>NaN</td>\n",
       "      <td>NaN</td>\n",
       "      <td>NaN</td>\n",
       "      <td>USP0000A0C</td>\n",
       "      <td>US</td>\n",
       "      <td>US</td>\n",
       "      <td>US</td>\n",
       "      <td>Reviewed</td>\n",
       "    </tr>\n",
       "    <tr>\n",
       "      <th>3381</th>\n",
       "      <td>02/25/1975</td>\n",
       "      <td>05:20:05</td>\n",
       "      <td>-7.388</td>\n",
       "      <td>149.798</td>\n",
       "      <td>Earthquake</td>\n",
       "      <td>33.0</td>\n",
       "      <td>NaN</td>\n",
       "      <td>NaN</td>\n",
       "      <td>5.5</td>\n",
       "      <td>MB</td>\n",
       "      <td>...</td>\n",
       "      <td>NaN</td>\n",
       "      <td>NaN</td>\n",
       "      <td>NaN</td>\n",
       "      <td>NaN</td>\n",
       "      <td>NaN</td>\n",
       "      <td>USP0000A12</td>\n",
       "      <td>US</td>\n",
       "      <td>US</td>\n",
       "      <td>US</td>\n",
       "      <td>Reviewed</td>\n",
       "    </tr>\n",
       "    <tr>\n",
       "      <th>3382</th>\n",
       "      <td>02/26/1975</td>\n",
       "      <td>04:48:55</td>\n",
       "      <td>85.047</td>\n",
       "      <td>97.969</td>\n",
       "      <td>Earthquake</td>\n",
       "      <td>33.0</td>\n",
       "      <td>NaN</td>\n",
       "      <td>NaN</td>\n",
       "      <td>5.6</td>\n",
       "      <td>MS</td>\n",
       "      <td>...</td>\n",
       "      <td>NaN</td>\n",
       "      <td>NaN</td>\n",
       "      <td>NaN</td>\n",
       "      <td>NaN</td>\n",
       "      <td>NaN</td>\n",
       "      <td>USP0000A1H</td>\n",
       "      <td>US</td>\n",
       "      <td>US</td>\n",
       "      <td>US</td>\n",
       "      <td>Reviewed</td>\n",
       "    </tr>\n",
       "  </tbody>\n",
       "</table>\n",
       "<p>5 rows × 21 columns</p>\n",
       "</div>"
      ],
      "text/plain": [
       "                          Date                      Time  Latitude  Longitude  \\\n",
       "3378  1975-02-23T02:58:41.000Z  1975-02-23T02:58:41.000Z     8.017    124.075   \n",
       "3379                02/23/1975                  03:53:36   -21.727    -71.356   \n",
       "3380                02/23/1975                  07:34:11   -10.879    166.667   \n",
       "3381                02/25/1975                  05:20:05    -7.388    149.798   \n",
       "3382                02/26/1975                  04:48:55    85.047     97.969   \n",
       "\n",
       "            Type  Depth  Depth Error  Depth Seismic Stations  Magnitude  \\\n",
       "3378  Earthquake  623.0          NaN                     NaN        5.6   \n",
       "3379  Earthquake   33.0          NaN                     NaN        5.6   \n",
       "3380  Earthquake   33.0          NaN                     NaN        5.5   \n",
       "3381  Earthquake   33.0          NaN                     NaN        5.5   \n",
       "3382  Earthquake   33.0          NaN                     NaN        5.6   \n",
       "\n",
       "     Magnitude Type  ...  Magnitude Seismic Stations  Azimuthal Gap  \\\n",
       "3378             MB  ...                         NaN            NaN   \n",
       "3379             MB  ...                         NaN            NaN   \n",
       "3380             MS  ...                         NaN            NaN   \n",
       "3381             MB  ...                         NaN            NaN   \n",
       "3382             MS  ...                         NaN            NaN   \n",
       "\n",
       "      Horizontal Distance  Horizontal Error  Root Mean Square          ID  \\\n",
       "3378                  NaN               NaN               NaN  USP0000A09   \n",
       "3379                  NaN               NaN               NaN  USP0000A0A   \n",
       "3380                  NaN               NaN               NaN  USP0000A0C   \n",
       "3381                  NaN               NaN               NaN  USP0000A12   \n",
       "3382                  NaN               NaN               NaN  USP0000A1H   \n",
       "\n",
       "     Source Location Source Magnitude Source    Status  \n",
       "3378     US              US               US  Reviewed  \n",
       "3379     US              US               US  Reviewed  \n",
       "3380     US              US               US  Reviewed  \n",
       "3381     US              US               US  Reviewed  \n",
       "3382     US              US               US  Reviewed  \n",
       "\n",
       "[5 rows x 21 columns]"
      ]
     },
     "execution_count": 4,
     "metadata": {},
     "output_type": "execute_result"
    }
   ],
   "source": [
    "earthquakes[3378:3383]"
   ]
  },
  {
   "cell_type": "markdown",
   "id": "27c1a086",
   "metadata": {
    "papermill": {
     "duration": 0.010345,
     "end_time": "2023-06-08T13:14:00.469602",
     "exception": false,
     "start_time": "2023-06-08T13:14:00.459257",
     "status": "completed"
    },
    "tags": []
   },
   "source": [
    "This does appear to be an issue with data entry: ideally, all entries in the column have the same format.  We can get an idea of how widespread this issue is by checking the length of each entry in the \"Date\" column."
   ]
  },
  {
   "cell_type": "code",
   "execution_count": 5,
   "id": "4439becd",
   "metadata": {
    "execution": {
     "iopub.execute_input": "2023-06-08T13:14:00.492905Z",
     "iopub.status.busy": "2023-06-08T13:14:00.492411Z",
     "iopub.status.idle": "2023-06-08T13:14:00.524414Z",
     "shell.execute_reply": "2023-06-08T13:14:00.522921Z"
    },
    "papermill": {
     "duration": 0.047227,
     "end_time": "2023-06-08T13:14:00.527484",
     "exception": false,
     "start_time": "2023-06-08T13:14:00.480257",
     "status": "completed"
    },
    "tags": []
   },
   "outputs": [
    {
     "data": {
      "text/plain": [
       "10    23409\n",
       "24        3\n",
       "Name: Date, dtype: int64"
      ]
     },
     "execution_count": 5,
     "metadata": {},
     "output_type": "execute_result"
    }
   ],
   "source": [
    "date_lengths = earthquakes.Date.str.len()\n",
    "date_lengths.value_counts()"
   ]
  },
  {
   "cell_type": "markdown",
   "id": "fba0918a",
   "metadata": {
    "papermill": {
     "duration": 0.011021,
     "end_time": "2023-06-08T13:14:00.549637",
     "exception": false,
     "start_time": "2023-06-08T13:14:00.538616",
     "status": "completed"
    },
    "tags": []
   },
   "source": [
    "Looks like there are two more rows that has a date in a different format.  Run the code cell below to obtain the indices corresponding to those rows and print the data."
   ]
  },
  {
   "cell_type": "code",
   "execution_count": 6,
   "id": "b22d0df9",
   "metadata": {
    "execution": {
     "iopub.execute_input": "2023-06-08T13:14:00.573839Z",
     "iopub.status.busy": "2023-06-08T13:14:00.573407Z",
     "iopub.status.idle": "2023-06-08T13:14:00.604034Z",
     "shell.execute_reply": "2023-06-08T13:14:00.603054Z"
    },
    "papermill": {
     "duration": 0.046177,
     "end_time": "2023-06-08T13:14:00.606849",
     "exception": false,
     "start_time": "2023-06-08T13:14:00.560672",
     "status": "completed"
    },
    "tags": []
   },
   "outputs": [
    {
     "name": "stdout",
     "output_type": "stream",
     "text": [
      "Indices with corrupted data: [ 3378  7512 20650]\n"
     ]
    },
    {
     "data": {
      "text/html": [
       "<div>\n",
       "<style scoped>\n",
       "    .dataframe tbody tr th:only-of-type {\n",
       "        vertical-align: middle;\n",
       "    }\n",
       "\n",
       "    .dataframe tbody tr th {\n",
       "        vertical-align: top;\n",
       "    }\n",
       "\n",
       "    .dataframe thead th {\n",
       "        text-align: right;\n",
       "    }\n",
       "</style>\n",
       "<table border=\"1\" class=\"dataframe\">\n",
       "  <thead>\n",
       "    <tr style=\"text-align: right;\">\n",
       "      <th></th>\n",
       "      <th>Date</th>\n",
       "      <th>Time</th>\n",
       "      <th>Latitude</th>\n",
       "      <th>Longitude</th>\n",
       "      <th>Type</th>\n",
       "      <th>Depth</th>\n",
       "      <th>Depth Error</th>\n",
       "      <th>Depth Seismic Stations</th>\n",
       "      <th>Magnitude</th>\n",
       "      <th>Magnitude Type</th>\n",
       "      <th>...</th>\n",
       "      <th>Magnitude Seismic Stations</th>\n",
       "      <th>Azimuthal Gap</th>\n",
       "      <th>Horizontal Distance</th>\n",
       "      <th>Horizontal Error</th>\n",
       "      <th>Root Mean Square</th>\n",
       "      <th>ID</th>\n",
       "      <th>Source</th>\n",
       "      <th>Location Source</th>\n",
       "      <th>Magnitude Source</th>\n",
       "      <th>Status</th>\n",
       "    </tr>\n",
       "  </thead>\n",
       "  <tbody>\n",
       "    <tr>\n",
       "      <th>3378</th>\n",
       "      <td>1975-02-23T02:58:41.000Z</td>\n",
       "      <td>1975-02-23T02:58:41.000Z</td>\n",
       "      <td>8.017</td>\n",
       "      <td>124.075</td>\n",
       "      <td>Earthquake</td>\n",
       "      <td>623.0</td>\n",
       "      <td>NaN</td>\n",
       "      <td>NaN</td>\n",
       "      <td>5.6</td>\n",
       "      <td>MB</td>\n",
       "      <td>...</td>\n",
       "      <td>NaN</td>\n",
       "      <td>NaN</td>\n",
       "      <td>NaN</td>\n",
       "      <td>NaN</td>\n",
       "      <td>NaN</td>\n",
       "      <td>USP0000A09</td>\n",
       "      <td>US</td>\n",
       "      <td>US</td>\n",
       "      <td>US</td>\n",
       "      <td>Reviewed</td>\n",
       "    </tr>\n",
       "    <tr>\n",
       "      <th>7512</th>\n",
       "      <td>1985-04-28T02:53:41.530Z</td>\n",
       "      <td>1985-04-28T02:53:41.530Z</td>\n",
       "      <td>-32.998</td>\n",
       "      <td>-71.766</td>\n",
       "      <td>Earthquake</td>\n",
       "      <td>33.0</td>\n",
       "      <td>NaN</td>\n",
       "      <td>NaN</td>\n",
       "      <td>5.6</td>\n",
       "      <td>MW</td>\n",
       "      <td>...</td>\n",
       "      <td>NaN</td>\n",
       "      <td>NaN</td>\n",
       "      <td>NaN</td>\n",
       "      <td>NaN</td>\n",
       "      <td>1.30</td>\n",
       "      <td>USP0002E81</td>\n",
       "      <td>US</td>\n",
       "      <td>US</td>\n",
       "      <td>HRV</td>\n",
       "      <td>Reviewed</td>\n",
       "    </tr>\n",
       "    <tr>\n",
       "      <th>20650</th>\n",
       "      <td>2011-03-13T02:23:34.520Z</td>\n",
       "      <td>2011-03-13T02:23:34.520Z</td>\n",
       "      <td>36.344</td>\n",
       "      <td>142.344</td>\n",
       "      <td>Earthquake</td>\n",
       "      <td>10.1</td>\n",
       "      <td>13.9</td>\n",
       "      <td>289.0</td>\n",
       "      <td>5.8</td>\n",
       "      <td>MWC</td>\n",
       "      <td>...</td>\n",
       "      <td>NaN</td>\n",
       "      <td>32.3</td>\n",
       "      <td>NaN</td>\n",
       "      <td>NaN</td>\n",
       "      <td>1.06</td>\n",
       "      <td>USP000HWQP</td>\n",
       "      <td>US</td>\n",
       "      <td>US</td>\n",
       "      <td>GCMT</td>\n",
       "      <td>Reviewed</td>\n",
       "    </tr>\n",
       "  </tbody>\n",
       "</table>\n",
       "<p>3 rows × 21 columns</p>\n",
       "</div>"
      ],
      "text/plain": [
       "                           Date                      Time  Latitude  \\\n",
       "3378   1975-02-23T02:58:41.000Z  1975-02-23T02:58:41.000Z     8.017   \n",
       "7512   1985-04-28T02:53:41.530Z  1985-04-28T02:53:41.530Z   -32.998   \n",
       "20650  2011-03-13T02:23:34.520Z  2011-03-13T02:23:34.520Z    36.344   \n",
       "\n",
       "       Longitude        Type  Depth  Depth Error  Depth Seismic Stations  \\\n",
       "3378     124.075  Earthquake  623.0          NaN                     NaN   \n",
       "7512     -71.766  Earthquake   33.0          NaN                     NaN   \n",
       "20650    142.344  Earthquake   10.1         13.9                   289.0   \n",
       "\n",
       "       Magnitude Magnitude Type  ...  Magnitude Seismic Stations  \\\n",
       "3378         5.6             MB  ...                         NaN   \n",
       "7512         5.6             MW  ...                         NaN   \n",
       "20650        5.8            MWC  ...                         NaN   \n",
       "\n",
       "       Azimuthal Gap  Horizontal Distance  Horizontal Error  Root Mean Square  \\\n",
       "3378             NaN                  NaN               NaN               NaN   \n",
       "7512             NaN                  NaN               NaN              1.30   \n",
       "20650           32.3                  NaN               NaN              1.06   \n",
       "\n",
       "               ID Source Location Source Magnitude Source    Status  \n",
       "3378   USP0000A09     US              US               US  Reviewed  \n",
       "7512   USP0002E81     US              US              HRV  Reviewed  \n",
       "20650  USP000HWQP     US              US             GCMT  Reviewed  \n",
       "\n",
       "[3 rows x 21 columns]"
      ]
     },
     "execution_count": 6,
     "metadata": {},
     "output_type": "execute_result"
    }
   ],
   "source": [
    "indices = np.where([date_lengths == 24])[1]\n",
    "print('Indices with corrupted data:', indices)\n",
    "earthquakes.loc[indices]"
   ]
  },
  {
   "cell_type": "markdown",
   "id": "4fb3d1c0",
   "metadata": {
    "papermill": {
     "duration": 0.010874,
     "end_time": "2023-06-08T13:14:00.628829",
     "exception": false,
     "start_time": "2023-06-08T13:14:00.617955",
     "status": "completed"
    },
    "tags": []
   },
   "source": [
    "Given all of this information, it's your turn to create a new column \"date_parsed\" in the `earthquakes` dataset that has correctly parsed dates in it.  \n",
    "\n",
    "**Note**: When completing this problem, you are allowed to (but are not required to) amend the entries in the \"Date\" and \"Time\" columns.  Do not remove any rows from the dataset."
   ]
  },
  {
   "cell_type": "code",
   "execution_count": 7,
   "id": "6e7ca1a9",
   "metadata": {
    "execution": {
     "iopub.execute_input": "2023-06-08T13:14:00.654123Z",
     "iopub.status.busy": "2023-06-08T13:14:00.653619Z",
     "iopub.status.idle": "2023-06-08T13:14:00.684997Z",
     "shell.execute_reply": "2023-06-08T13:14:00.683751Z"
    },
    "papermill": {
     "duration": 0.048627,
     "end_time": "2023-06-08T13:14:00.688795",
     "exception": false,
     "start_time": "2023-06-08T13:14:00.640168",
     "status": "completed"
    },
    "tags": []
   },
   "outputs": [
    {
     "data": {
      "text/html": [
       "<div>\n",
       "<style scoped>\n",
       "    .dataframe tbody tr th:only-of-type {\n",
       "        vertical-align: middle;\n",
       "    }\n",
       "\n",
       "    .dataframe tbody tr th {\n",
       "        vertical-align: top;\n",
       "    }\n",
       "\n",
       "    .dataframe thead th {\n",
       "        text-align: right;\n",
       "    }\n",
       "</style>\n",
       "<table border=\"1\" class=\"dataframe\">\n",
       "  <thead>\n",
       "    <tr style=\"text-align: right;\">\n",
       "      <th></th>\n",
       "      <th>Date</th>\n",
       "      <th>Time</th>\n",
       "    </tr>\n",
       "  </thead>\n",
       "  <tbody>\n",
       "    <tr>\n",
       "      <th>3378</th>\n",
       "      <td>1975-02-23</td>\n",
       "      <td>02:58:41</td>\n",
       "    </tr>\n",
       "    <tr>\n",
       "      <th>7512</th>\n",
       "      <td>1985-04-28</td>\n",
       "      <td>02:53:41</td>\n",
       "    </tr>\n",
       "    <tr>\n",
       "      <th>20650</th>\n",
       "      <td>2011-03-13</td>\n",
       "      <td>02:23:34</td>\n",
       "    </tr>\n",
       "  </tbody>\n",
       "</table>\n",
       "</div>"
      ],
      "text/plain": [
       "             Date      Time\n",
       "3378   1975-02-23  02:58:41\n",
       "7512   1985-04-28  02:53:41\n",
       "20650  2011-03-13  02:23:34"
      ]
     },
     "execution_count": 7,
     "metadata": {},
     "output_type": "execute_result"
    }
   ],
   "source": [
    "earthquakes[\"Date\"] = earthquakes[\"Date\"].str[:10]\n",
    "earthquakes.loc[indices, (\"Time\")] = earthquakes.loc[indices, (\"Time\")].str[11:19]\n",
    "earthquakes.loc[indices, (\"Date\", \"Time\")]"
   ]
  },
  {
   "cell_type": "code",
   "execution_count": 8,
   "id": "e1f4892e",
   "metadata": {
    "execution": {
     "iopub.execute_input": "2023-06-08T13:14:00.716519Z",
     "iopub.status.busy": "2023-06-08T13:14:00.715341Z",
     "iopub.status.idle": "2023-06-08T13:14:00.728596Z",
     "shell.execute_reply": "2023-06-08T13:14:00.727722Z"
    },
    "papermill": {
     "duration": 0.031281,
     "end_time": "2023-06-08T13:14:00.731895",
     "exception": false,
     "start_time": "2023-06-08T13:14:00.700614",
     "status": "completed"
    },
    "tags": []
   },
   "outputs": [
    {
     "data": {
      "text/plain": [
       "3378     02/23/1975\n",
       "7512     04/28/1985\n",
       "20650    03/13/2011\n",
       "Name: Date, dtype: object"
      ]
     },
     "execution_count": 8,
     "metadata": {},
     "output_type": "execute_result"
    }
   ],
   "source": [
    "earthquakes.loc[indices, (\"Date\")] = earthquakes.loc[indices, (\"Date\")].apply(lambda date: datetime.datetime.strptime(date, \"%Y-%m-%d\").strftime(\"%m/%d/%Y\"))\n",
    "earthquakes.loc[indices, (\"Date\")]"
   ]
  },
  {
   "cell_type": "code",
   "execution_count": 9,
   "id": "6851dbef",
   "metadata": {
    "execution": {
     "iopub.execute_input": "2023-06-08T13:14:00.758937Z",
     "iopub.status.busy": "2023-06-08T13:14:00.758278Z",
     "iopub.status.idle": "2023-06-08T13:14:00.785943Z",
     "shell.execute_reply": "2023-06-08T13:14:00.784129Z"
    },
    "papermill": {
     "duration": 0.044885,
     "end_time": "2023-06-08T13:14:00.788768",
     "exception": false,
     "start_time": "2023-06-08T13:14:00.743883",
     "status": "completed"
    },
    "tags": []
   },
   "outputs": [
    {
     "data": {
      "text/plain": [
       "03    2114\n",
       "08    2014\n",
       "12    2001\n",
       "11    1987\n",
       "09    1985\n",
       "04    1971\n",
       "05    1964\n",
       "10    1952\n",
       "01    1891\n",
       "07    1880\n",
       "02    1829\n",
       "06    1824\n",
       "Name: Date, dtype: int64"
      ]
     },
     "execution_count": 9,
     "metadata": {},
     "output_type": "execute_result"
    }
   ],
   "source": [
    "earthquakes[\"Date\"].str[:2].value_counts()"
   ]
  },
  {
   "cell_type": "markdown",
   "id": "0da2085c",
   "metadata": {
    "papermill": {
     "duration": 0.011026,
     "end_time": "2023-06-08T13:14:00.811277",
     "exception": false,
     "start_time": "2023-06-08T13:14:00.800251",
     "status": "completed"
    },
    "tags": []
   },
   "source": [
    "Some dates are formatted as dd/mm/yyyy"
   ]
  },
  {
   "cell_type": "code",
   "execution_count": 10,
   "id": "20c4876b",
   "metadata": {
    "execution": {
     "iopub.execute_input": "2023-06-08T13:14:00.837523Z",
     "iopub.status.busy": "2023-06-08T13:14:00.836885Z",
     "iopub.status.idle": "2023-06-08T13:14:00.901301Z",
     "shell.execute_reply": "2023-06-08T13:14:00.900002Z"
    },
    "papermill": {
     "duration": 0.080562,
     "end_time": "2023-06-08T13:14:00.904031",
     "exception": false,
     "start_time": "2023-06-08T13:14:00.823469",
     "status": "completed"
    },
    "tags": []
   },
   "outputs": [
    {
     "data": {
      "text/plain": [
       "03    2114\n",
       "08    2014\n",
       "12    2001\n",
       "11    1987\n",
       "09    1985\n",
       "04    1971\n",
       "05    1964\n",
       "10    1952\n",
       "01    1891\n",
       "07    1880\n",
       "02    1829\n",
       "06    1824\n",
       "Name: Date, dtype: int64"
      ]
     },
     "execution_count": 10,
     "metadata": {},
     "output_type": "execute_result"
    }
   ],
   "source": [
    "earthquakes.loc[earthquakes.Date.str[:2].astype(int) > 12, (\"Date\")] = earthquakes.loc[earthquakes.Date.str[:2].astype(int) > 12, (\"Date\")].apply(lambda date: datetime.datetime.strptime(date, \"%d/%m/%Y\").strftime(\"%m/%d/%Y\"))\n",
    "earthquakes[\"Date\"].str[:2].value_counts()"
   ]
  },
  {
   "cell_type": "code",
   "execution_count": 11,
   "id": "8db427c2",
   "metadata": {
    "execution": {
     "iopub.execute_input": "2023-06-08T13:14:00.929532Z",
     "iopub.status.busy": "2023-06-08T13:14:00.929047Z",
     "iopub.status.idle": "2023-06-08T13:14:01.012164Z",
     "shell.execute_reply": "2023-06-08T13:14:01.008960Z"
    },
    "papermill": {
     "duration": 0.099923,
     "end_time": "2023-06-08T13:14:01.015383",
     "exception": false,
     "start_time": "2023-06-08T13:14:00.915460",
     "status": "completed"
    },
    "tags": []
   },
   "outputs": [
    {
     "data": {
      "text/plain": [
       "0   1965-01-02\n",
       "1   1965-01-04\n",
       "2   1965-01-05\n",
       "3   1965-01-08\n",
       "4   1965-01-09\n",
       "Name: date_parsed, dtype: datetime64[ns]"
      ]
     },
     "execution_count": 11,
     "metadata": {},
     "output_type": "execute_result"
    }
   ],
   "source": [
    "earthquakes[\"date_parsed\"] = pd.to_datetime(earthquakes[\"Date\"], format=\"%m/%d/%Y\")\n",
    "earthquakes[\"date_parsed\"].head()"
   ]
  },
  {
   "cell_type": "markdown",
   "id": "7d416db6",
   "metadata": {
    "papermill": {
     "duration": 0.011649,
     "end_time": "2023-06-08T13:14:01.039913",
     "exception": false,
     "start_time": "2023-06-08T13:14:01.028264",
     "status": "completed"
    },
    "tags": []
   },
   "source": [
    "# 3) Select the day of the month\n",
    "\n",
    "Create a Pandas Series `day_of_month_earthquakes` containing the day of the month from the \"date_parsed\" column."
   ]
  },
  {
   "cell_type": "code",
   "execution_count": 12,
   "id": "781fb47c",
   "metadata": {
    "execution": {
     "iopub.execute_input": "2023-06-08T13:14:01.067783Z",
     "iopub.status.busy": "2023-06-08T13:14:01.066524Z",
     "iopub.status.idle": "2023-06-08T13:14:01.080716Z",
     "shell.execute_reply": "2023-06-08T13:14:01.079352Z"
    },
    "papermill": {
     "duration": 0.030852,
     "end_time": "2023-06-08T13:14:01.083456",
     "exception": false,
     "start_time": "2023-06-08T13:14:01.052604",
     "status": "completed"
    },
    "tags": []
   },
   "outputs": [
    {
     "data": {
      "text/plain": [
       "0         2\n",
       "1         4\n",
       "2         5\n",
       "3         8\n",
       "4         9\n",
       "         ..\n",
       "23407    28\n",
       "23408    28\n",
       "23409    28\n",
       "23410    29\n",
       "23411    30\n",
       "Name: date_parsed, Length: 23412, dtype: int64"
      ]
     },
     "execution_count": 12,
     "metadata": {},
     "output_type": "execute_result"
    }
   ],
   "source": [
    "day_of_month_earthquakes = earthquakes[\"date_parsed\"].dt.day\n",
    "\n",
    "day_of_month_earthquakes"
   ]
  },
  {
   "cell_type": "markdown",
   "id": "db90a031",
   "metadata": {
    "papermill": {
     "duration": 0.011736,
     "end_time": "2023-06-08T13:14:01.107405",
     "exception": false,
     "start_time": "2023-06-08T13:14:01.095669",
     "status": "completed"
    },
    "tags": []
   },
   "source": [
    "# 4) Plot the day of the month to check the date parsing\n",
    "\n",
    "Plot the days of the month from your earthquake dataset."
   ]
  },
  {
   "cell_type": "code",
   "execution_count": 13,
   "id": "af0295f9",
   "metadata": {
    "execution": {
     "iopub.execute_input": "2023-06-08T13:14:01.136130Z",
     "iopub.status.busy": "2023-06-08T13:14:01.135713Z",
     "iopub.status.idle": "2023-06-08T13:14:01.762603Z",
     "shell.execute_reply": "2023-06-08T13:14:01.761083Z"
    },
    "papermill": {
     "duration": 0.645113,
     "end_time": "2023-06-08T13:14:01.765785",
     "exception": false,
     "start_time": "2023-06-08T13:14:01.120672",
     "status": "completed"
    },
    "tags": []
   },
   "outputs": [
    {
     "data": {
      "text/plain": [
       "<Axes: xlabel='date_parsed', ylabel='Count'>"
      ]
     },
     "execution_count": 13,
     "metadata": {},
     "output_type": "execute_result"
    },
    {
     "data": {
      "image/png": "[encoded data removed]",
      "text/plain": [
       "<Figure size 640x480 with 1 Axes>"
      ]
     },
     "metadata": {},
     "output_type": "display_data"
    }
   ],
   "source": [
    "sns.histplot(day_of_month_earthquakes, kde=True)"
   ]
  },
  {
   "cell_type": "markdown",
   "id": "f289eb38",
   "metadata": {
    "papermill": {
     "duration": 0.013265,
     "end_time": "2023-06-08T13:14:01.791987",
     "exception": false,
     "start_time": "2023-06-08T13:14:01.778722",
     "status": "completed"
    },
    "tags": []
   },
   "source": [
    "Does the graph make sense to you?"
   ]
  },
  {
   "cell_type": "markdown",
   "id": "811ecd26",
   "metadata": {
    "papermill": {
     "duration": 0.012244,
     "end_time": "2023-06-08T13:14:01.817235",
     "exception": false,
     "start_time": "2023-06-08T13:14:01.804991",
     "status": "completed"
    },
    "tags": []
   },
   "source": [
    "# (Optional) Bonus Challenge\n",
    "\n",
    "For an extra challenge, you'll work with a [Smithsonian dataset](https://www.kaggle.com/smithsonian/volcanic-eruptions) that documents Earth's volcanoes and their eruptive history over the past 10,000 years \n",
    "\n",
    "Run the next code cell to load the data."
   ]
  },
  {
   "cell_type": "code",
   "execution_count": 14,
   "id": "5543e3d3",
   "metadata": {
    "execution": {
     "iopub.execute_input": "2023-06-08T13:14:01.844818Z",
     "iopub.status.busy": "2023-06-08T13:14:01.844330Z",
     "iopub.status.idle": "2023-06-08T13:14:01.873284Z",
     "shell.execute_reply": "2023-06-08T13:14:01.872092Z"
    },
    "papermill": {
     "duration": 0.046296,
     "end_time": "2023-06-08T13:14:01.876381",
     "exception": false,
     "start_time": "2023-06-08T13:14:01.830085",
     "status": "completed"
    },
    "tags": []
   },
   "outputs": [],
   "source": [
    "volcanos = pd.read_csv(\"../input/volcanic-eruptions/database.csv\")"
   ]
  },
  {
   "cell_type": "markdown",
   "id": "75506b1f",
   "metadata": {
    "papermill": {
     "duration": 0.012636,
     "end_time": "2023-06-08T13:14:01.902671",
     "exception": false,
     "start_time": "2023-06-08T13:14:01.890035",
     "status": "completed"
    },
    "tags": []
   },
   "source": [
    "Try parsing the column \"Last Known Eruption\" from the `volcanos` dataframe. This column contains a mixture of text (\"Unknown\") and years both before the common era (BCE, also known as BC) and in the common era (CE, also known as AD)."
   ]
  },
  {
   "cell_type": "code",
   "execution_count": 15,
   "id": "f2c2272b",
   "metadata": {
    "execution": {
     "iopub.execute_input": "2023-06-08T13:14:01.930662Z",
     "iopub.status.busy": "2023-06-08T13:14:01.930223Z",
     "iopub.status.idle": "2023-06-08T13:14:01.940316Z",
     "shell.execute_reply": "2023-06-08T13:14:01.938811Z"
    },
    "papermill": {
     "duration": 0.027455,
     "end_time": "2023-06-08T13:14:01.943136",
     "exception": false,
     "start_time": "2023-06-08T13:14:01.915681",
     "status": "completed"
    },
    "tags": []
   },
   "outputs": [
    {
     "data": {
      "text/plain": [
       "764     Unknown\n",
       "1069    1996 CE\n",
       "34      1855 CE\n",
       "489     2016 CE\n",
       "9       1302 CE\n",
       "Name: Last Known Eruption, dtype: object"
      ]
     },
     "execution_count": 15,
     "metadata": {},
     "output_type": "execute_result"
    }
   ],
   "source": [
    "volcanos['Last Known Eruption'].sample(5)"
   ]
  },
  {
   "cell_type": "code",
   "execution_count": 16,
   "id": "525c502d",
   "metadata": {
    "execution": {
     "iopub.execute_input": "2023-06-08T13:14:01.973329Z",
     "iopub.status.busy": "2023-06-08T13:14:01.972886Z",
     "iopub.status.idle": "2023-06-08T13:14:01.984776Z",
     "shell.execute_reply": "2023-06-08T13:14:01.983371Z"
    },
    "papermill": {
     "duration": 0.029582,
     "end_time": "2023-06-08T13:14:01.987609",
     "exception": false,
     "start_time": "2023-06-08T13:14:01.958027",
     "status": "completed"
    },
    "tags": []
   },
   "outputs": [
    {
     "data": {
      "text/plain": [
       " CE    697\n",
       "own    637\n",
       "BCE    174\n",
       "Name: Last Known Eruption, dtype: int64"
      ]
     },
     "execution_count": 16,
     "metadata": {},
     "output_type": "execute_result"
    }
   ],
   "source": [
    "volcanos[\"Last Known Eruption\"].str[-3:].value_counts()"
   ]
  },
  {
   "cell_type": "code",
   "execution_count": 17,
   "id": "81c3900f",
   "metadata": {
    "execution": {
     "iopub.execute_input": "2023-06-08T13:14:02.020667Z",
     "iopub.status.busy": "2023-06-08T13:14:02.020218Z",
     "iopub.status.idle": "2023-06-08T13:14:02.030054Z",
     "shell.execute_reply": "2023-06-08T13:14:02.028918Z"
    },
    "papermill": {
     "duration": 0.031321,
     "end_time": "2023-06-08T13:14:02.032285",
     "exception": false,
     "start_time": "2023-06-08T13:14:02.000964",
     "status": "completed"
    },
    "tags": []
   },
   "outputs": [
    {
     "data": {
      "text/plain": [
       "0       8300 BCE\n",
       "1       4040 BCE\n",
       "2        Unknown\n",
       "3       3600 BCE\n",
       "4        1282 CE\n",
       "          ...   \n",
       "1503     2016 CE\n",
       "1504     1962 CE\n",
       "1505     Unknown\n",
       "1506     Unknown\n",
       "1507     Unknown\n",
       "Name: Last Known Eruption, Length: 1508, dtype: object"
      ]
     },
     "execution_count": 17,
     "metadata": {},
     "output_type": "execute_result"
    }
   ],
   "source": [
    "volcanos[\"Last Known Eruption\"]"
   ]
  },
  {
   "cell_type": "code",
   "execution_count": 18,
   "id": "280b95b9",
   "metadata": {
    "execution": {
     "iopub.execute_input": "2023-06-08T13:14:02.060709Z",
     "iopub.status.busy": "2023-06-08T13:14:02.060214Z",
     "iopub.status.idle": "2023-06-08T13:14:02.072389Z",
     "shell.execute_reply": "2023-06-08T13:14:02.070869Z"
    },
    "papermill": {
     "duration": 0.029266,
     "end_time": "2023-06-08T13:14:02.075051",
     "exception": false,
     "start_time": "2023-06-08T13:14:02.045785",
     "status": "completed"
    },
    "tags": []
   },
   "outputs": [
    {
     "data": {
      "text/plain": [
       "0       8300 BCE\n",
       "1       4040 BCE\n",
       "2            NaT\n",
       "3       3600 BCE\n",
       "4        1282 CE\n",
       "          ...   \n",
       "1503     2016 CE\n",
       "1504     1962 CE\n",
       "1505         NaT\n",
       "1506         NaT\n",
       "1507         NaT\n",
       "Name: Last Known Eruption, Length: 1508, dtype: object"
      ]
     },
     "execution_count": 18,
     "metadata": {},
     "output_type": "execute_result"
    }
   ],
   "source": [
    "volcanos[\"Last Known Eruption\"].replace(\"Unknown\", np.datetime64('NaT'), inplace=True)\n",
    "volcanos[\"Last Known Eruption\"]"
   ]
  },
  {
   "cell_type": "markdown",
   "id": "c2aede7d",
   "metadata": {
    "papermill": {
     "duration": 0.012487,
     "end_time": "2023-06-08T13:14:02.100587",
     "exception": false,
     "start_time": "2023-06-08T13:14:02.088100",
     "status": "completed"
    },
    "tags": []
   },
   "source": [
    "# (Optional) More practice\n",
    "\n",
    "If you're interested in graphing time series, [check out this tutorial](https://www.kaggle.com/residentmario/time-series-plotting-optional).\n",
    "\n",
    "You can also look into passing columns that you know have dates in them  the `parse_dates` argument in `read_csv`. (The documention [is here](https://pandas.pydata.org/pandas-docs/stable/generated/pandas.read_csv.html).) Do note that this method can be very slow, but depending on your needs it may sometimes be handy to use.\n",
    "\n",
    "# Keep going\n",
    "\n",
    "In the next lesson, learn how to [**work with character encodings**](https://www.kaggle.com/alexisbcook/character-encodings)."
   ]
  },
  {
   "cell_type": "markdown",
   "id": "a3bc7e72",
   "metadata": {
    "papermill": {
     "duration": 0.012467,
     "end_time": "2023-06-08T13:14:02.126062",
     "exception": false,
     "start_time": "2023-06-08T13:14:02.113595",
     "status": "completed"
    },
    "tags": []
   },
   "source": [
    "---\n",
    "\n",
    "\n",
    "\n",
    "\n",
    "*Have questions or comments? Visit the [course discussion forum](https://www.kaggle.com/learn/data-cleaning/discussion) to chat with other learners.*"
   ]
  }
 ],
 "metadata": {
  "kernelspec": {
   "display_name": "Python 3",
   "language": "python",
   "name": "python3"
  },
  "language_info": {
   "codemirror_mode": {
    "name": "ipython",
    "version": 3
   },
   "file_extension": ".py",
   "mimetype": "text/x-python",
   "name": "python",
   "nbconvert_exporter": "python",
   "pygments_lexer": "ipython3",
   "version": "3.10.10"
  },
  "papermill": {
   "default_parameters": {},
   "duration": 17.619286,
   "end_time": "2023-06-08T13:14:03.163485",
   "environment_variables": {},
   "exception": null,
   "input_path": "__notebook__.ipynb",
   "output_path": "__notebook__.ipynb",
   "parameters": {},
   "start_time": "2023-06-08T13:13:45.544199",
   "version": "2.4.0"
  }
 },
 "nbformat": 4,
 "nbformat_minor": 5
}
