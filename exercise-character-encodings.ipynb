{
 "cells": [
  {
   "cell_type": "markdown",
   "id": "889758b2",
   "metadata": {
    "papermill": {
     "duration": 0.005999,
     "end_time": "2023-06-08T14:01:36.173819",
     "exception": false,
     "start_time": "2023-06-08T14:01:36.167820",
     "status": "completed"
    },
    "tags": []
   },
   "source": [
    "**This notebook is an exercise in the [Data Cleaning](https://www.kaggle.com/learn/data-cleaning) course.  You can reference the tutorial at [this link](https://www.kaggle.com/alexisbcook/character-encodings).**\n",
    "\n",
    "---\n"
   ]
  },
  {
   "cell_type": "markdown",
   "id": "36cd891f",
   "metadata": {
    "papermill": {
     "duration": 0.004668,
     "end_time": "2023-06-08T14:01:36.183925",
     "exception": false,
     "start_time": "2023-06-08T14:01:36.179257",
     "status": "completed"
    },
    "tags": []
   },
   "source": [
    "In this exercise, you'll apply what you learned in the **Character encodings** tutorial.\n",
    "\n",
    "# Setup\n",
    "\n",
    "The questions below will give you feedback on your work. Run the following cell to set up the feedback system."
   ]
  },
  {
   "cell_type": "code",
   "execution_count": 1,
   "id": "088a7076",
   "metadata": {
    "execution": {
     "iopub.execute_input": "2023-06-08T14:01:36.197320Z",
     "iopub.status.busy": "2023-06-08T14:01:36.196034Z",
     "iopub.status.idle": "2023-06-08T14:01:36.311598Z",
     "shell.execute_reply": "2023-06-08T14:01:36.310327Z"
    },
    "papermill": {
     "duration": 0.126973,
     "end_time": "2023-06-08T14:01:36.316055",
     "exception": false,
     "start_time": "2023-06-08T14:01:36.189082",
     "status": "completed"
    },
    "tags": []
   },
   "outputs": [
    {
     "name": "stdout",
     "output_type": "stream",
     "text": [
      "Setup Complete\n"
     ]
    }
   ],
   "source": [
    "from learntools.core import binder\n",
    "binder.bind(globals())\n",
    "from learntools.data_cleaning.ex4 import *\n",
    "print(\"Setup Complete\")"
   ]
  },
  {
   "cell_type": "markdown",
   "id": "203127dd",
   "metadata": {
    "papermill": {
     "duration": 0.004879,
     "end_time": "2023-06-08T14:01:36.326260",
     "exception": false,
     "start_time": "2023-06-08T14:01:36.321381",
     "status": "completed"
    },
    "tags": []
   },
   "source": [
    "# Get our environment set up\n",
    "\n",
    "The first thing we'll need to do is load in the libraries we'll be using."
   ]
  },
  {
   "cell_type": "code",
   "execution_count": 2,
   "id": "40f29859",
   "metadata": {
    "execution": {
     "iopub.execute_input": "2023-06-08T14:01:36.339064Z",
     "iopub.status.busy": "2023-06-08T14:01:36.338566Z",
     "iopub.status.idle": "2023-06-08T14:01:36.344276Z",
     "shell.execute_reply": "2023-06-08T14:01:36.343051Z"
    },
    "papermill": {
     "duration": 0.015371,
     "end_time": "2023-06-08T14:01:36.346848",
     "exception": false,
     "start_time": "2023-06-08T14:01:36.331477",
     "status": "completed"
    },
    "tags": []
   },
   "outputs": [],
   "source": [
    "# modules we'll use\n",
    "import pandas as pd\n",
    "import numpy as np\n",
    "\n",
    "# helpful character encoding module\n",
    "import charset_normalizer\n",
    "\n",
    "# set seed for reproducibility\n",
    "np.random.seed(0)"
   ]
  },
  {
   "cell_type": "markdown",
   "id": "1f257e48",
   "metadata": {
    "papermill": {
     "duration": 0.004807,
     "end_time": "2023-06-08T14:01:36.357642",
     "exception": false,
     "start_time": "2023-06-08T14:01:36.352835",
     "status": "completed"
    },
    "tags": []
   },
   "source": [
    "# 1) What are encodings?\n",
    "\n",
    "You're working with a dataset composed of bytes.  Run the code cell below to print a sample entry."
   ]
  },
  {
   "cell_type": "code",
   "execution_count": 3,
   "id": "823ff216",
   "metadata": {
    "execution": {
     "iopub.execute_input": "2023-06-08T14:01:36.370353Z",
     "iopub.status.busy": "2023-06-08T14:01:36.369868Z",
     "iopub.status.idle": "2023-06-08T14:01:36.377626Z",
     "shell.execute_reply": "2023-06-08T14:01:36.376077Z"
    },
    "papermill": {
     "duration": 0.017566,
     "end_time": "2023-06-08T14:01:36.380363",
     "exception": false,
     "start_time": "2023-06-08T14:01:36.362797",
     "status": "completed"
    },
    "tags": []
   },
   "outputs": [
    {
     "name": "stdout",
     "output_type": "stream",
     "text": [
      "b'\\xa7A\\xa6n'\n",
      "data type: <class 'bytes'>\n"
     ]
    }
   ],
   "source": [
    "sample_entry = b'\\xa7A\\xa6n'\n",
    "print(sample_entry)\n",
    "print('data type:', type(sample_entry))"
   ]
  },
  {
   "cell_type": "markdown",
   "id": "882d366a",
   "metadata": {
    "papermill": {
     "duration": 0.005074,
     "end_time": "2023-06-08T14:01:36.390853",
     "exception": false,
     "start_time": "2023-06-08T14:01:36.385779",
     "status": "completed"
    },
    "tags": []
   },
   "source": [
    "You notice that it doesn't use the standard UTF-8 encoding. \n",
    "\n",
    "Use the next code cell to create a variable `new_entry` that changes the encoding from `\"big5-tw\"` to `\"utf-8\"`.  `new_entry` should have the bytes datatype."
   ]
  },
  {
   "cell_type": "code",
   "execution_count": 4,
   "id": "b41a8595",
   "metadata": {
    "execution": {
     "iopub.execute_input": "2023-06-08T14:01:36.404169Z",
     "iopub.status.busy": "2023-06-08T14:01:36.403056Z",
     "iopub.status.idle": "2023-06-08T14:01:36.408550Z",
     "shell.execute_reply": "2023-06-08T14:01:36.407505Z"
    },
    "papermill": {
     "duration": 0.014777,
     "end_time": "2023-06-08T14:01:36.410919",
     "exception": false,
     "start_time": "2023-06-08T14:01:36.396142",
     "status": "completed"
    },
    "tags": []
   },
   "outputs": [],
   "source": [
    "new_entry = sample_entry.decode('big5-tw').encode('utf-8')"
   ]
  },
  {
   "cell_type": "markdown",
   "id": "5224f29a",
   "metadata": {
    "papermill": {
     "duration": 0.004973,
     "end_time": "2023-06-08T14:01:36.421314",
     "exception": false,
     "start_time": "2023-06-08T14:01:36.416341",
     "status": "completed"
    },
    "tags": []
   },
   "source": [
    "# 2) Reading in files with encoding problems\n",
    "\n",
    "Use the code cell below to read in this file at path `\"../input/fatal-police-shootings-in-the-us/PoliceKillingsUS.csv\"`.  \n",
    "\n",
    "Figure out what the correct encoding should be and read in the file to a DataFrame `police_killings`."
   ]
  },
  {
   "cell_type": "code",
   "execution_count": 5,
   "id": "22ab94e5",
   "metadata": {
    "execution": {
     "iopub.execute_input": "2023-06-08T14:01:36.435955Z",
     "iopub.status.busy": "2023-06-08T14:01:36.435491Z",
     "iopub.status.idle": "2023-06-08T14:01:37.350782Z",
     "shell.execute_reply": "2023-06-08T14:01:37.349370Z"
    },
    "papermill": {
     "duration": 0.925676,
     "end_time": "2023-06-08T14:01:37.354107",
     "exception": false,
     "start_time": "2023-06-08T14:01:36.428431",
     "status": "completed"
    },
    "tags": []
   },
   "outputs": [],
   "source": [
    "# TODO: Load in the DataFrame correctly.\n",
    "with open(\"../input/fatal-police-shootings-in-the-us/PoliceKillingsUS.csv\", 'rb') as rawdata:\n",
    "    result = charset_normalizer.detect(rawdata.read())\n",
    "police_killings = pd.read_csv(\"../input/fatal-police-shootings-in-the-us/PoliceKillingsUS.csv\", encoding=result['encoding'])"
   ]
  },
  {
   "cell_type": "markdown",
   "id": "e7a041ee",
   "metadata": {
    "papermill": {
     "duration": 0.005173,
     "end_time": "2023-06-08T14:01:37.364928",
     "exception": false,
     "start_time": "2023-06-08T14:01:37.359755",
     "status": "completed"
    },
    "tags": []
   },
   "source": [
    "# 3) Saving your files with UTF-8 encoding\n",
    "\n",
    "Save a version of the police killings dataset to CSV with UTF-8 encoding.  Your answer will be marked correct after saving this file.  \n",
    "\n",
    "Note: When using the `to_csv()` method, supply only the name of the file (e.g., `\"my_file.csv\"`).  This saves the file at the filepath `\"/kaggle/working/my_file.csv\"`."
   ]
  },
  {
   "cell_type": "code",
   "execution_count": 6,
   "id": "d6f5f4fa",
   "metadata": {
    "execution": {
     "iopub.execute_input": "2023-06-08T14:01:37.378841Z",
     "iopub.status.busy": "2023-06-08T14:01:37.378337Z",
     "iopub.status.idle": "2023-06-08T14:01:37.421879Z",
     "shell.execute_reply": "2023-06-08T14:01:37.420590Z"
    },
    "papermill": {
     "duration": 0.054824,
     "end_time": "2023-06-08T14:01:37.425200",
     "exception": false,
     "start_time": "2023-06-08T14:01:37.370376",
     "status": "completed"
    },
    "tags": []
   },
   "outputs": [],
   "source": [
    "# TODO: Save the police killings dataset to CSV\n",
    "police_killings.to_csv(\"police_killings.csv\")"
   ]
  },
  {
   "cell_type": "markdown",
   "id": "eaaf0ff8",
   "metadata": {
    "papermill": {
     "duration": 0.005079,
     "end_time": "2023-06-08T14:01:37.435873",
     "exception": false,
     "start_time": "2023-06-08T14:01:37.430794",
     "status": "completed"
    },
    "tags": []
   },
   "source": [
    "# (Optional) More practice\n",
    "\n",
    "Check out [this dataset of files in different character encodings](https://www.kaggle.com/rtatman/character-encoding-examples). Can you read in all the files with their original encodings and them save them out as UTF-8 files?\n",
    "\n",
    "If you have a file that's in UTF-8 but has just a couple of weird-looking characters in it, you can try out the [ftfy module](https://ftfy.readthedocs.io/en/latest/#) and see if it helps. \n",
    "\n",
    "# Keep going\n",
    "\n",
    "In the final lesson, learn how to [**clean up inconsistent text entries**](https://www.kaggle.com/alexisbcook/inconsistent-data-entry) in your dataset."
   ]
  },
  {
   "cell_type": "markdown",
   "id": "5666ec68",
   "metadata": {
    "papermill": {
     "duration": 0.004929,
     "end_time": "2023-06-08T14:01:37.446152",
     "exception": false,
     "start_time": "2023-06-08T14:01:37.441223",
     "status": "completed"
    },
    "tags": []
   },
   "source": [
    "---\n",
    "\n",
    "\n",
    "\n",
    "\n",
    "*Have questions or comments? Visit the [course discussion forum](https://www.kaggle.com/learn/data-cleaning/discussion) to chat with other learners.*"
   ]
  }
 ],
 "metadata": {
  "kernelspec": {
   "display_name": "Python 3",
   "language": "python",
   "name": "python3"
  },
  "language_info": {
   "codemirror_mode": {
    "name": "ipython",
    "version": 3
   },
   "file_extension": ".py",
   "mimetype": "text/x-python",
   "name": "python",
   "nbconvert_exporter": "python",
   "pygments_lexer": "ipython3",
   "version": "3.10.10"
  },
  "papermill": {
   "default_parameters": {},
   "duration": 18.977393,
   "end_time": "2023-06-08T14:01:40.794477",
   "environment_variables": {},
   "exception": null,
   "input_path": "__notebook__.ipynb",
   "output_path": "__notebook__.ipynb",
   "parameters": {},
   "start_time": "2023-06-08T14:01:21.817084",
   "version": "2.4.0"
  }
 },
 "nbformat": 4,
 "nbformat_minor": 5
}
