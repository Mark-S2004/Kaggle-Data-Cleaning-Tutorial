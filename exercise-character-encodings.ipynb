{
 "cells": [
  {
   "cell_type": "markdown",
   "id": "5b55fc24",
   "metadata": {
    "papermill": {
     "duration": 0.004257,
     "end_time": "2023-06-08T14:00:33.623958",
     "exception": false,
     "start_time": "2023-06-08T14:00:33.619701",
     "status": "completed"
    },
    "tags": []
   },
   "source": [
    "**This notebook is an exercise in the [Data Cleaning](https://www.kaggle.com/learn/data-cleaning) course.  You can reference the tutorial at [this link](https://www.kaggle.com/alexisbcook/character-encodings).**\n",
    "\n",
    "---\n"
   ]
  },
  {
   "cell_type": "markdown",
   "id": "8d8e6aff",
   "metadata": {
    "papermill": {
     "duration": 0.003261,
     "end_time": "2023-06-08T14:00:33.630847",
     "exception": false,
     "start_time": "2023-06-08T14:00:33.627586",
     "status": "completed"
    },
    "tags": []
   },
   "source": [
    "In this exercise, you'll apply what you learned in the **Character encodings** tutorial.\n",
    "\n",
    "# Setup\n",
    "\n",
    "The questions below will give you feedback on your work. Run the following cell to set up the feedback system."
   ]
  },
  {
   "cell_type": "code",
   "execution_count": 1,
   "id": "22d7866f",
   "metadata": {
    "execution": {
     "iopub.execute_input": "2023-06-08T14:00:33.639611Z",
     "iopub.status.busy": "2023-06-08T14:00:33.639254Z",
     "iopub.status.idle": "2023-06-08T14:00:33.728293Z",
     "shell.execute_reply": "2023-06-08T14:00:33.727302Z"
    },
    "papermill": {
     "duration": 0.096225,
     "end_time": "2023-06-08T14:00:33.730545",
     "exception": false,
     "start_time": "2023-06-08T14:00:33.634320",
     "status": "completed"
    },
    "tags": []
   },
   "outputs": [
    {
     "name": "stdout",
     "output_type": "stream",
     "text": [
      "Setup Complete\n"
     ]
    }
   ],
   "source": [
    "from learntools.core import binder\n",
    "binder.bind(globals())\n",
    "from learntools.data_cleaning.ex4 import *\n",
    "print(\"Setup Complete\")"
   ]
  },
  {
   "cell_type": "markdown",
   "id": "5c5e5651",
   "metadata": {
    "papermill": {
     "duration": 0.003622,
     "end_time": "2023-06-08T14:00:33.738214",
     "exception": false,
     "start_time": "2023-06-08T14:00:33.734592",
     "status": "completed"
    },
    "tags": []
   },
   "source": [
    "# Get our environment set up\n",
    "\n",
    "The first thing we'll need to do is load in the libraries we'll be using."
   ]
  },
  {
   "cell_type": "code",
   "execution_count": 2,
   "id": "5a9519f7",
   "metadata": {
    "execution": {
     "iopub.execute_input": "2023-06-08T14:00:33.748131Z",
     "iopub.status.busy": "2023-06-08T14:00:33.747157Z",
     "iopub.status.idle": "2023-06-08T14:00:33.752357Z",
     "shell.execute_reply": "2023-06-08T14:00:33.751190Z"
    },
    "papermill": {
     "duration": 0.012008,
     "end_time": "2023-06-08T14:00:33.754085",
     "exception": false,
     "start_time": "2023-06-08T14:00:33.742077",
     "status": "completed"
    },
    "tags": []
   },
   "outputs": [],
   "source": [
    "# modules we'll use\n",
    "import pandas as pd\n",
    "import numpy as np\n",
    "\n",
    "# helpful character encoding module\n",
    "import charset_normalizer\n",
    "\n",
    "# set seed for reproducibility\n",
    "np.random.seed(0)"
   ]
  },
  {
   "cell_type": "markdown",
   "id": "eb4ba849",
   "metadata": {
    "papermill": {
     "duration": 0.00336,
     "end_time": "2023-06-08T14:00:33.761292",
     "exception": false,
     "start_time": "2023-06-08T14:00:33.757932",
     "status": "completed"
    },
    "tags": []
   },
   "source": [
    "# 1) What are encodings?\n",
    "\n",
    "You're working with a dataset composed of bytes.  Run the code cell below to print a sample entry."
   ]
  },
  {
   "cell_type": "code",
   "execution_count": 3,
   "id": "f61a4b8d",
   "metadata": {
    "execution": {
     "iopub.execute_input": "2023-06-08T14:00:33.771859Z",
     "iopub.status.busy": "2023-06-08T14:00:33.771241Z",
     "iopub.status.idle": "2023-06-08T14:00:33.776734Z",
     "shell.execute_reply": "2023-06-08T14:00:33.775445Z"
    },
    "papermill": {
     "duration": 0.012816,
     "end_time": "2023-06-08T14:00:33.779038",
     "exception": false,
     "start_time": "2023-06-08T14:00:33.766222",
     "status": "completed"
    },
    "tags": []
   },
   "outputs": [
    {
     "name": "stdout",
     "output_type": "stream",
     "text": [
      "b'\\xa7A\\xa6n'\n",
      "data type: <class 'bytes'>\n"
     ]
    }
   ],
   "source": [
    "sample_entry = b'\\xa7A\\xa6n'\n",
    "print(sample_entry)\n",
    "print('data type:', type(sample_entry))"
   ]
  },
  {
   "cell_type": "markdown",
   "id": "ca4f5077",
   "metadata": {
    "papermill": {
     "duration": 0.003393,
     "end_time": "2023-06-08T14:00:33.786436",
     "exception": false,
     "start_time": "2023-06-08T14:00:33.783043",
     "status": "completed"
    },
    "tags": []
   },
   "source": [
    "You notice that it doesn't use the standard UTF-8 encoding. \n",
    "\n",
    "Use the next code cell to create a variable `new_entry` that changes the encoding from `\"big5-tw\"` to `\"utf-8\"`.  `new_entry` should have the bytes datatype."
   ]
  },
  {
   "cell_type": "code",
   "execution_count": 4,
   "id": "7fe345e9",
   "metadata": {
    "execution": {
     "iopub.execute_input": "2023-06-08T14:00:33.795199Z",
     "iopub.status.busy": "2023-06-08T14:00:33.794812Z",
     "iopub.status.idle": "2023-06-08T14:00:33.802634Z",
     "shell.execute_reply": "2023-06-08T14:00:33.802050Z"
    },
    "papermill": {
     "duration": 0.014147,
     "end_time": "2023-06-08T14:00:33.804195",
     "exception": false,
     "start_time": "2023-06-08T14:00:33.790048",
     "status": "completed"
    },
    "tags": []
   },
   "outputs": [
    {
     "data": {
      "application/javascript": [
       "parent.postMessage({\"jupyterEvent\": \"custom.exercise_interaction\", \"data\": {\"outcomeType\": 1, \"valueTowardsCompletion\": 0.3333333333333333, \"interactionType\": 1, \"questionType\": 1, \"questionId\": \"1_EncodingsIntro\", \"learnToolsVersion\": \"0.3.4\", \"failureMessage\": \"\", \"exceptionClass\": \"\", \"trace\": \"\"}}, \"*\")"
      ],
      "text/plain": [
       "<IPython.core.display.Javascript object>"
      ]
     },
     "metadata": {},
     "output_type": "display_data"
    },
    {
     "data": {
      "text/markdown": [
       "<span style=\"color:#33cc33\">Correct</span>"
      ],
      "text/plain": [
       "Correct"
      ]
     },
     "metadata": {},
     "output_type": "display_data"
    }
   ],
   "source": [
    "new_entry = sample_entry.decode('big5-tw').encode('utf-8')\n",
    "\n",
    "# Check your answer\n",
    "q1.check()"
   ]
  },
  {
   "cell_type": "code",
   "execution_count": 5,
   "id": "f290cd47",
   "metadata": {
    "execution": {
     "iopub.execute_input": "2023-06-08T14:00:33.814116Z",
     "iopub.status.busy": "2023-06-08T14:00:33.813523Z",
     "iopub.status.idle": "2023-06-08T14:00:33.817326Z",
     "shell.execute_reply": "2023-06-08T14:00:33.816548Z"
    },
    "papermill": {
     "duration": 0.011288,
     "end_time": "2023-06-08T14:00:33.819500",
     "exception": false,
     "start_time": "2023-06-08T14:00:33.808212",
     "status": "completed"
    },
    "tags": []
   },
   "outputs": [],
   "source": [
    "# Lines below will give you a hint or solution code\n",
    "#q1.hint()\n",
    "#q1.solution()"
   ]
  },
  {
   "cell_type": "markdown",
   "id": "34547849",
   "metadata": {
    "papermill": {
     "duration": 0.003799,
     "end_time": "2023-06-08T14:00:33.827765",
     "exception": false,
     "start_time": "2023-06-08T14:00:33.823966",
     "status": "completed"
    },
    "tags": []
   },
   "source": [
    "# 2) Reading in files with encoding problems\n",
    "\n",
    "Use the code cell below to read in this file at path `\"../input/fatal-police-shootings-in-the-us/PoliceKillingsUS.csv\"`.  \n",
    "\n",
    "Figure out what the correct encoding should be and read in the file to a DataFrame `police_killings`."
   ]
  },
  {
   "cell_type": "code",
   "execution_count": 6,
   "id": "5c2ff2b7",
   "metadata": {
    "execution": {
     "iopub.execute_input": "2023-06-08T14:00:33.837474Z",
     "iopub.status.busy": "2023-06-08T14:00:33.837134Z",
     "iopub.status.idle": "2023-06-08T14:00:34.224243Z",
     "shell.execute_reply": "2023-06-08T14:00:34.223132Z"
    },
    "papermill": {
     "duration": 0.394822,
     "end_time": "2023-06-08T14:00:34.226690",
     "exception": false,
     "start_time": "2023-06-08T14:00:33.831868",
     "status": "completed"
    },
    "tags": []
   },
   "outputs": [
    {
     "data": {
      "application/javascript": [
       "parent.postMessage({\"jupyterEvent\": \"custom.exercise_interaction\", \"data\": {\"outcomeType\": 1, \"valueTowardsCompletion\": 0.3333333333333333, \"interactionType\": 1, \"questionType\": 1, \"questionId\": \"2_ReadIn\", \"learnToolsVersion\": \"0.3.4\", \"failureMessage\": \"\", \"exceptionClass\": \"\", \"trace\": \"\"}}, \"*\")"
      ],
      "text/plain": [
       "<IPython.core.display.Javascript object>"
      ]
     },
     "metadata": {},
     "output_type": "display_data"
    },
    {
     "data": {
      "text/markdown": [
       "<span style=\"color:#33cc33\">Correct</span>"
      ],
      "text/plain": [
       "Correct"
      ]
     },
     "metadata": {},
     "output_type": "display_data"
    }
   ],
   "source": [
    "# TODO: Load in the DataFrame correctly.\n",
    "with open(\"../input/fatal-police-shootings-in-the-us/PoliceKillingsUS.csv\", 'rb') as rawdata:\n",
    "    result = charset_normalizer.detect(rawdata.read())\n",
    "police_killings = pd.read_csv(\"../input/fatal-police-shootings-in-the-us/PoliceKillingsUS.csv\", encoding=result['encoding'])\n",
    "\n",
    "# Check your answer\n",
    "q2.check()"
   ]
  },
  {
   "cell_type": "markdown",
   "id": "3302fd47",
   "metadata": {
    "papermill": {
     "duration": 0.003972,
     "end_time": "2023-06-08T14:00:34.235203",
     "exception": false,
     "start_time": "2023-06-08T14:00:34.231231",
     "status": "completed"
    },
    "tags": []
   },
   "source": [
    "Feel free to use any additional code cells for supplemental work.  To get credit for finishing this question, you'll need to run `q2.check()` and get a result of **Correct**."
   ]
  },
  {
   "cell_type": "code",
   "execution_count": 7,
   "id": "5420d525",
   "metadata": {
    "execution": {
     "iopub.execute_input": "2023-06-08T14:00:34.244854Z",
     "iopub.status.busy": "2023-06-08T14:00:34.244500Z",
     "iopub.status.idle": "2023-06-08T14:00:34.247502Z",
     "shell.execute_reply": "2023-06-08T14:00:34.246967Z"
    },
    "papermill": {
     "duration": 0.009784,
     "end_time": "2023-06-08T14:00:34.249054",
     "exception": false,
     "start_time": "2023-06-08T14:00:34.239270",
     "status": "completed"
    },
    "tags": []
   },
   "outputs": [],
   "source": [
    "# Lines below will give you a hint or solution code\n",
    "#q2.hint()\n",
    "#q2.solution()"
   ]
  },
  {
   "cell_type": "markdown",
   "id": "5b6a437b",
   "metadata": {
    "papermill": {
     "duration": 0.003786,
     "end_time": "2023-06-08T14:00:34.257021",
     "exception": false,
     "start_time": "2023-06-08T14:00:34.253235",
     "status": "completed"
    },
    "tags": []
   },
   "source": [
    "# 3) Saving your files with UTF-8 encoding\n",
    "\n",
    "Save a version of the police killings dataset to CSV with UTF-8 encoding.  Your answer will be marked correct after saving this file.  \n",
    "\n",
    "Note: When using the `to_csv()` method, supply only the name of the file (e.g., `\"my_file.csv\"`).  This saves the file at the filepath `\"/kaggle/working/my_file.csv\"`."
   ]
  },
  {
   "cell_type": "code",
   "execution_count": 8,
   "id": "b0414a8c",
   "metadata": {
    "execution": {
     "iopub.execute_input": "2023-06-08T14:00:34.266922Z",
     "iopub.status.busy": "2023-06-08T14:00:34.266577Z",
     "iopub.status.idle": "2023-06-08T14:00:34.301028Z",
     "shell.execute_reply": "2023-06-08T14:00:34.300399Z"
    },
    "papermill": {
     "duration": 0.041826,
     "end_time": "2023-06-08T14:00:34.302895",
     "exception": false,
     "start_time": "2023-06-08T14:00:34.261069",
     "status": "completed"
    },
    "tags": []
   },
   "outputs": [
    {
     "data": {
      "application/javascript": [
       "parent.postMessage({\"jupyterEvent\": \"custom.exercise_interaction\", \"data\": {\"outcomeType\": 1, \"valueTowardsCompletion\": 0.3333333333333333, \"interactionType\": 1, \"questionType\": 2, \"questionId\": \"3_SaveCSV\", \"learnToolsVersion\": \"0.3.4\", \"failureMessage\": \"\", \"exceptionClass\": \"\", \"trace\": \"\"}}, \"*\")"
      ],
      "text/plain": [
       "<IPython.core.display.Javascript object>"
      ]
     },
     "metadata": {},
     "output_type": "display_data"
    },
    {
     "data": {
      "text/markdown": [
       "<span style=\"color:#33cc33\">Correct</span>"
      ],
      "text/plain": [
       "Correct"
      ]
     },
     "metadata": {},
     "output_type": "display_data"
    }
   ],
   "source": [
    "# TODO: Save the police killings dataset to CSV\n",
    "police_killings.to_csv(\"police_killings.csv\")\n",
    "\n",
    "# Check your answer\n",
    "q3.check()"
   ]
  },
  {
   "cell_type": "code",
   "execution_count": 9,
   "id": "a16bcbf7",
   "metadata": {
    "execution": {
     "iopub.execute_input": "2023-06-08T14:00:34.313731Z",
     "iopub.status.busy": "2023-06-08T14:00:34.312964Z",
     "iopub.status.idle": "2023-06-08T14:00:34.316896Z",
     "shell.execute_reply": "2023-06-08T14:00:34.315951Z"
    },
    "papermill": {
     "duration": 0.011323,
     "end_time": "2023-06-08T14:00:34.318781",
     "exception": false,
     "start_time": "2023-06-08T14:00:34.307458",
     "status": "completed"
    },
    "tags": []
   },
   "outputs": [],
   "source": [
    "# Lines below will give you a hint or solution code\n",
    "#q3.hint()\n",
    "#q3.solution()"
   ]
  },
  {
   "cell_type": "markdown",
   "id": "cfd93c0e",
   "metadata": {
    "papermill": {
     "duration": 0.004127,
     "end_time": "2023-06-08T14:00:34.327530",
     "exception": false,
     "start_time": "2023-06-08T14:00:34.323403",
     "status": "completed"
    },
    "tags": []
   },
   "source": [
    "# (Optional) More practice\n",
    "\n",
    "Check out [this dataset of files in different character encodings](https://www.kaggle.com/rtatman/character-encoding-examples). Can you read in all the files with their original encodings and them save them out as UTF-8 files?\n",
    "\n",
    "If you have a file that's in UTF-8 but has just a couple of weird-looking characters in it, you can try out the [ftfy module](https://ftfy.readthedocs.io/en/latest/#) and see if it helps. \n",
    "\n",
    "# Keep going\n",
    "\n",
    "In the final lesson, learn how to [**clean up inconsistent text entries**](https://www.kaggle.com/alexisbcook/inconsistent-data-entry) in your dataset."
   ]
  },
  {
   "cell_type": "markdown",
   "id": "44ad0cdd",
   "metadata": {
    "papermill": {
     "duration": 0.004088,
     "end_time": "2023-06-08T14:00:34.335903",
     "exception": false,
     "start_time": "2023-06-08T14:00:34.331815",
     "status": "completed"
    },
    "tags": []
   },
   "source": [
    "---\n",
    "\n",
    "\n",
    "\n",
    "\n",
    "*Have questions or comments? Visit the [course discussion forum](https://www.kaggle.com/learn/data-cleaning/discussion) to chat with other learners.*"
   ]
  }
 ],
 "metadata": {
  "kernelspec": {
   "display_name": "Python 3",
   "language": "python",
   "name": "python3"
  },
  "language_info": {
   "codemirror_mode": {
    "name": "ipython",
    "version": 3
   },
   "file_extension": ".py",
   "mimetype": "text/x-python",
   "name": "python",
   "nbconvert_exporter": "python",
   "pygments_lexer": "ipython3",
   "version": "3.10.10"
  },
  "papermill": {
   "default_parameters": {},
   "duration": 10.560043,
   "end_time": "2023-06-08T14:00:35.160310",
   "environment_variables": {},
   "exception": null,
   "input_path": "__notebook__.ipynb",
   "output_path": "__notebook__.ipynb",
   "parameters": {},
   "start_time": "2023-06-08T14:00:24.600267",
   "version": "2.4.0"
  }
 },
 "nbformat": 4,
 "nbformat_minor": 5
}
